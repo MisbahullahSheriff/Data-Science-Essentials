{
 "cells": [
  {
   "cell_type": "markdown",
   "metadata": {
    "id": "5QngkME53Crz"
   },
   "source": [
    "# <u>Data Science Essentials</u>\n",
    "\n",
    "## <u>Topic</u>: Target Mean Encoding\n",
    "\n",
    "## <u>Category</u>: Feature Selection\n",
    "\n",
    "### <u>Created By</u>: Mohammed Misbahullah Sheriff\n",
    "- [LinkedIn](https://www.linkedin.com/in/mohammed-misbahullah-sheriff/)\n",
    "- [GitHub](https://github.com/MisbahullahSheriff)"
   ]
  },
  {
   "cell_type": "markdown",
   "metadata": {
    "id": "SWbXxYR83KMw"
   },
   "source": [
    "## Importing Libraries"
   ]
  },
  {
   "cell_type": "code",
   "execution_count": 1,
   "metadata": {
    "executionInfo": {
     "elapsed": 134,
     "status": "ok",
     "timestamp": 1705405330263,
     "user": {
      "displayName": "Mohammed Misbahullah Sheriff",
      "userId": "04478462769959085958"
     },
     "user_tz": -330
    },
    "id": "vXGghipK2tah"
   },
   "outputs": [],
   "source": [
    "import numpy as np\n",
    "import pandas as pd\n",
    "\n",
    "import matplotlib.pyplot as plt\n",
    "\n",
    "import sklearn\n",
    "\n",
    "from sklearn.impute import SimpleImputer\n",
    "\n",
    "from sklearn.model_selection import train_test_split\n",
    "\n",
    "from sklearn.pipeline import Pipeline\n",
    "\n",
    "from feature_engine.selection import SelectByTargetMeanPerformance\n",
    "\n",
    "from feature_engine.wrappers import SklearnTransformerWrapper\n",
    "\n",
    "import os"
   ]
  },
  {
   "cell_type": "markdown",
   "metadata": {
    "id": "SJ_5_BLr3-KL"
   },
   "source": [
    "## Getting the Data"
   ]
  },
  {
   "cell_type": "code",
   "execution_count": 2,
   "metadata": {
    "colab": {
     "base_uri": "https://localhost:8080/",
     "height": 224
    },
    "executionInfo": {
     "elapsed": 191,
     "status": "ok",
     "timestamp": 1705401896161,
     "user": {
      "displayName": "Mohammed Misbahullah Sheriff",
      "userId": "04478462769959085958"
     },
     "user_tz": -330
    },
    "id": "PfF4jkUy3jv_",
    "outputId": "8d4cc3a1-47d0-42c5-a72a-1ece305f31a1"
   },
   "outputs": [
    {
     "name": "stdout",
     "output_type": "stream",
     "text": [
      "Data Shape: (891, 8)\n"
     ]
    },
    {
     "data": {
      "text/html": [
       "<div>\n",
       "<style scoped>\n",
       "    .dataframe tbody tr th:only-of-type {\n",
       "        vertical-align: middle;\n",
       "    }\n",
       "\n",
       "    .dataframe tbody tr th {\n",
       "        vertical-align: top;\n",
       "    }\n",
       "\n",
       "    .dataframe thead th {\n",
       "        text-align: right;\n",
       "    }\n",
       "</style>\n",
       "<table border=\"1\" class=\"dataframe\">\n",
       "  <thead>\n",
       "    <tr style=\"text-align: right;\">\n",
       "      <th></th>\n",
       "      <th>survived</th>\n",
       "      <th>pclass</th>\n",
       "      <th>sex</th>\n",
       "      <th>age</th>\n",
       "      <th>sibsp</th>\n",
       "      <th>parch</th>\n",
       "      <th>fare</th>\n",
       "      <th>embarked</th>\n",
       "    </tr>\n",
       "  </thead>\n",
       "  <tbody>\n",
       "    <tr>\n",
       "      <th>0</th>\n",
       "      <td>0</td>\n",
       "      <td>3</td>\n",
       "      <td>male</td>\n",
       "      <td>22.0</td>\n",
       "      <td>1</td>\n",
       "      <td>0</td>\n",
       "      <td>7.2500</td>\n",
       "      <td>S</td>\n",
       "    </tr>\n",
       "    <tr>\n",
       "      <th>1</th>\n",
       "      <td>1</td>\n",
       "      <td>1</td>\n",
       "      <td>female</td>\n",
       "      <td>38.0</td>\n",
       "      <td>1</td>\n",
       "      <td>0</td>\n",
       "      <td>71.2833</td>\n",
       "      <td>C</td>\n",
       "    </tr>\n",
       "    <tr>\n",
       "      <th>2</th>\n",
       "      <td>1</td>\n",
       "      <td>3</td>\n",
       "      <td>female</td>\n",
       "      <td>26.0</td>\n",
       "      <td>0</td>\n",
       "      <td>0</td>\n",
       "      <td>7.9250</td>\n",
       "      <td>S</td>\n",
       "    </tr>\n",
       "    <tr>\n",
       "      <th>3</th>\n",
       "      <td>1</td>\n",
       "      <td>1</td>\n",
       "      <td>female</td>\n",
       "      <td>35.0</td>\n",
       "      <td>1</td>\n",
       "      <td>0</td>\n",
       "      <td>53.1000</td>\n",
       "      <td>S</td>\n",
       "    </tr>\n",
       "    <tr>\n",
       "      <th>4</th>\n",
       "      <td>0</td>\n",
       "      <td>3</td>\n",
       "      <td>male</td>\n",
       "      <td>35.0</td>\n",
       "      <td>0</td>\n",
       "      <td>0</td>\n",
       "      <td>8.0500</td>\n",
       "      <td>S</td>\n",
       "    </tr>\n",
       "  </tbody>\n",
       "</table>\n",
       "</div>"
      ],
      "text/plain": [
       "   survived  pclass     sex   age  sibsp  parch     fare embarked\n",
       "0         0       3    male  22.0      1      0   7.2500        S\n",
       "1         1       1  female  38.0      1      0  71.2833        C\n",
       "2         1       3  female  26.0      0      0   7.9250        S\n",
       "3         1       1  female  35.0      1      0  53.1000        S\n",
       "4         0       3    male  35.0      0      0   8.0500        S"
      ]
     },
     "execution_count": 2,
     "metadata": {},
     "output_type": "execute_result"
    }
   ],
   "source": [
    "file_dir = \"C:\\Python Programs\\datasets\"\n",
    "file_name = \"titanic.csv\"\n",
    "file_path = os.path.join(file_dir, file_name)\n",
    "\n",
    "titanic = (\n",
    "    pd\n",
    "     .read_csv(file_path)\n",
    "     .drop(columns=[\"PassengerId\", \"Name\", \"Ticket\", \"Cabin\"])\n",
    "     .rename(columns=str.lower)\n",
    ")\n",
    "\n",
    "print(\"Data Shape:\", titanic.shape)\n",
    "titanic.head()"
   ]
  },
  {
   "cell_type": "code",
   "execution_count": 3,
   "metadata": {
    "colab": {
     "base_uri": "https://localhost:8080/",
     "height": 521
    },
    "executionInfo": {
     "elapsed": 499,
     "status": "ok",
     "timestamp": 1705401944328,
     "user": {
      "displayName": "Mohammed Misbahullah Sheriff",
      "userId": "04478462769959085958"
     },
     "user_tz": -330
    },
    "id": "HMdwXKxc4DhG",
    "outputId": "2993c332-345d-44c8-ef62-fa797d18c851"
   },
   "outputs": [
    {
     "name": "stdout",
     "output_type": "stream",
     "text": [
      "Data Shape: (6926, 16)\n"
     ]
    },
    {
     "data": {
      "text/html": [
       "<div>\n",
       "<style scoped>\n",
       "    .dataframe tbody tr th:only-of-type {\n",
       "        vertical-align: middle;\n",
       "    }\n",
       "\n",
       "    .dataframe tbody tr th {\n",
       "        vertical-align: top;\n",
       "    }\n",
       "\n",
       "    .dataframe thead th {\n",
       "        text-align: right;\n",
       "    }\n",
       "</style>\n",
       "<table border=\"1\" class=\"dataframe\">\n",
       "  <thead>\n",
       "    <tr style=\"text-align: right;\">\n",
       "      <th></th>\n",
       "      <th>name</th>\n",
       "      <th>company</th>\n",
       "      <th>model</th>\n",
       "      <th>edition</th>\n",
       "      <th>year</th>\n",
       "      <th>owner</th>\n",
       "      <th>fuel</th>\n",
       "      <th>seller_type</th>\n",
       "      <th>transmission</th>\n",
       "      <th>km_driven</th>\n",
       "      <th>mileage_mpg</th>\n",
       "      <th>engine_cc</th>\n",
       "      <th>max_power_bhp</th>\n",
       "      <th>torque_nm</th>\n",
       "      <th>seats</th>\n",
       "      <th>selling_price</th>\n",
       "    </tr>\n",
       "  </thead>\n",
       "  <tbody>\n",
       "    <tr>\n",
       "      <th>0</th>\n",
       "      <td>Maruti Swift Dzire VDI</td>\n",
       "      <td>Maruti</td>\n",
       "      <td>Swift</td>\n",
       "      <td>Dzire VDI</td>\n",
       "      <td>2014</td>\n",
       "      <td>First</td>\n",
       "      <td>Diesel</td>\n",
       "      <td>Individual</td>\n",
       "      <td>Manual</td>\n",
       "      <td>145500</td>\n",
       "      <td>55.00</td>\n",
       "      <td>1248.0</td>\n",
       "      <td>74.00</td>\n",
       "      <td>190.000000</td>\n",
       "      <td>5.0</td>\n",
       "      <td>450000</td>\n",
       "    </tr>\n",
       "    <tr>\n",
       "      <th>1</th>\n",
       "      <td>Skoda Rapid 1.5 TDI Ambition</td>\n",
       "      <td>Skoda</td>\n",
       "      <td>Rapid</td>\n",
       "      <td>1.5 TDI Ambition</td>\n",
       "      <td>2014</td>\n",
       "      <td>Second</td>\n",
       "      <td>Diesel</td>\n",
       "      <td>Individual</td>\n",
       "      <td>Manual</td>\n",
       "      <td>120000</td>\n",
       "      <td>49.70</td>\n",
       "      <td>1498.0</td>\n",
       "      <td>103.52</td>\n",
       "      <td>250.000000</td>\n",
       "      <td>5.0</td>\n",
       "      <td>370000</td>\n",
       "    </tr>\n",
       "    <tr>\n",
       "      <th>2</th>\n",
       "      <td>Honda City 2017-2020 EXi</td>\n",
       "      <td>Honda</td>\n",
       "      <td>City</td>\n",
       "      <td>2017-2020 EXi</td>\n",
       "      <td>2006</td>\n",
       "      <td>Third</td>\n",
       "      <td>Petrol</td>\n",
       "      <td>Individual</td>\n",
       "      <td>Manual</td>\n",
       "      <td>140000</td>\n",
       "      <td>41.60</td>\n",
       "      <td>1497.0</td>\n",
       "      <td>78.00</td>\n",
       "      <td>124.544455</td>\n",
       "      <td>5.0</td>\n",
       "      <td>158000</td>\n",
       "    </tr>\n",
       "    <tr>\n",
       "      <th>3</th>\n",
       "      <td>Hyundai i20 Sportz Diesel</td>\n",
       "      <td>Hyundai</td>\n",
       "      <td>i20</td>\n",
       "      <td>Sportz Diesel</td>\n",
       "      <td>2010</td>\n",
       "      <td>First</td>\n",
       "      <td>Diesel</td>\n",
       "      <td>Individual</td>\n",
       "      <td>Manual</td>\n",
       "      <td>127000</td>\n",
       "      <td>54.06</td>\n",
       "      <td>1396.0</td>\n",
       "      <td>90.00</td>\n",
       "      <td>219.668960</td>\n",
       "      <td>5.0</td>\n",
       "      <td>225000</td>\n",
       "    </tr>\n",
       "    <tr>\n",
       "      <th>4</th>\n",
       "      <td>Maruti Swift VXI BSIII</td>\n",
       "      <td>Maruti</td>\n",
       "      <td>Swift</td>\n",
       "      <td>VXI BSIII</td>\n",
       "      <td>2007</td>\n",
       "      <td>First</td>\n",
       "      <td>Petrol</td>\n",
       "      <td>Individual</td>\n",
       "      <td>Manual</td>\n",
       "      <td>120000</td>\n",
       "      <td>37.84</td>\n",
       "      <td>1298.0</td>\n",
       "      <td>88.20</td>\n",
       "      <td>112.776475</td>\n",
       "      <td>5.0</td>\n",
       "      <td>130000</td>\n",
       "    </tr>\n",
       "  </tbody>\n",
       "</table>\n",
       "</div>"
      ],
      "text/plain": [
       "                           name  company  model           edition  year  \\\n",
       "0        Maruti Swift Dzire VDI   Maruti  Swift         Dzire VDI  2014   \n",
       "1  Skoda Rapid 1.5 TDI Ambition    Skoda  Rapid  1.5 TDI Ambition  2014   \n",
       "2      Honda City 2017-2020 EXi    Honda   City     2017-2020 EXi  2006   \n",
       "3     Hyundai i20 Sportz Diesel  Hyundai    i20     Sportz Diesel  2010   \n",
       "4        Maruti Swift VXI BSIII   Maruti  Swift         VXI BSIII  2007   \n",
       "\n",
       "    owner    fuel seller_type transmission  km_driven  mileage_mpg  engine_cc  \\\n",
       "0   First  Diesel  Individual       Manual     145500        55.00     1248.0   \n",
       "1  Second  Diesel  Individual       Manual     120000        49.70     1498.0   \n",
       "2   Third  Petrol  Individual       Manual     140000        41.60     1497.0   \n",
       "3   First  Diesel  Individual       Manual     127000        54.06     1396.0   \n",
       "4   First  Petrol  Individual       Manual     120000        37.84     1298.0   \n",
       "\n",
       "   max_power_bhp   torque_nm  seats  selling_price  \n",
       "0          74.00  190.000000    5.0         450000  \n",
       "1         103.52  250.000000    5.0         370000  \n",
       "2          78.00  124.544455    5.0         158000  \n",
       "3          90.00  219.668960    5.0         225000  \n",
       "4          88.20  112.776475    5.0         130000  "
      ]
     },
     "execution_count": 3,
     "metadata": {},
     "output_type": "execute_result"
    }
   ],
   "source": [
    "file_dir = \"C:\\Python Programs\\datasets\"\n",
    "file_name = \"car-details.csv\"\n",
    "file_path = os.path.join(file_dir, file_name)\n",
    "\n",
    "cars = pd.read_csv(file_path)\n",
    "print(\"Data Shape:\", cars.shape)\n",
    "cars.head()"
   ]
  },
  {
   "cell_type": "code",
   "execution_count": 4,
   "metadata": {
    "executionInfo": {
     "elapsed": 138,
     "status": "ok",
     "timestamp": 1705402877935,
     "user": {
      "displayName": "Mohammed Misbahullah Sheriff",
      "userId": "04478462769959085958"
     },
     "user_tz": -330
    },
    "id": "C4HekhwJ5T09"
   },
   "outputs": [],
   "source": [
    "def get_preprocessor(X):\n",
    "  \"\"\"\n",
    "\n",
    "  Description:\n",
    "  ------------\n",
    "  This function will return an object to impute all the features of any dataset\n",
    "\n",
    "  Parameters:\n",
    "  -----------\n",
    "  X: dataframe\n",
    "     Any dataset to perform the imputation on\n",
    "\n",
    "  \"\"\"\n",
    "  num_cols = X.select_dtypes(include=\"number\").columns.to_list()\n",
    "  obj_cols = X.select_dtypes(exclude=\"number\").columns.to_list()\n",
    "\n",
    "  num_imputer = SklearnTransformerWrapper(SimpleImputer(strategy=\"mean\"), variables=num_cols)\n",
    "\n",
    "  obj_imputer = SklearnTransformerWrapper(SimpleImputer(strategy=\"most_frequent\"), variables=obj_cols)\n",
    "\n",
    "  preprocessor = Pipeline(steps=[\n",
    "      (\"num_imputer\", num_imputer),\n",
    "      (\"obj_imputer\", obj_imputer),\n",
    "  ])\n",
    "\n",
    "  return preprocessor"
   ]
  },
  {
   "cell_type": "markdown",
   "metadata": {
    "id": "gKWXheLF4TZH"
   },
   "source": [
    "## Demo 1 - Classification"
   ]
  },
  {
   "cell_type": "code",
   "execution_count": 5,
   "metadata": {
    "colab": {
     "base_uri": "https://localhost:8080/"
    },
    "executionInfo": {
     "elapsed": 140,
     "status": "ok",
     "timestamp": 1705402882804,
     "user": {
      "displayName": "Mohammed Misbahullah Sheriff",
      "userId": "04478462769959085958"
     },
     "user_tz": -330
    },
    "id": "s1GyhaoC38r7",
    "outputId": "81dffab8-6680-468d-cfff-99919a7bb965"
   },
   "outputs": [
    {
     "name": "stdout",
     "output_type": "stream",
     "text": [
      "(712, 7) (712,)\n",
      "(179, 7) (179,)\n"
     ]
    }
   ],
   "source": [
    "X = titanic.drop(columns=\"survived\")\n",
    "y = titanic.survived.copy()\n",
    "\n",
    "X_train, X_test, y_train, y_test = train_test_split(X,\n",
    "                                                    y,\n",
    "                                                    stratify=y,\n",
    "                                                    test_size=0.2,\n",
    "                                                    random_state=42)\n",
    "\n",
    "print(X_train.shape, y_train.shape)\n",
    "print(X_test.shape, y_test.shape)"
   ]
  },
  {
   "cell_type": "markdown",
   "metadata": {
    "id": "z6jxUHBj_SzC"
   },
   "source": [
    "### Training the Selector"
   ]
  },
  {
   "cell_type": "code",
   "execution_count": 6,
   "metadata": {
    "colab": {
     "base_uri": "https://localhost:8080/",
     "height": 313
    },
    "executionInfo": {
     "elapsed": 981,
     "status": "ok",
     "timestamp": 1705403189642,
     "user": {
      "displayName": "Mohammed Misbahullah Sheriff",
      "userId": "04478462769959085958"
     },
     "user_tz": -330
    },
    "id": "XE--g5xC44ol",
    "outputId": "f22bb7be-478f-4404-ed04-aef54c7a68db"
   },
   "outputs": [
    {
     "data": {
      "text/html": [
       "<style>#sk-container-id-1 {color: black;background-color: white;}#sk-container-id-1 pre{padding: 0;}#sk-container-id-1 div.sk-toggleable {background-color: white;}#sk-container-id-1 label.sk-toggleable__label {cursor: pointer;display: block;width: 100%;margin-bottom: 0;padding: 0.3em;box-sizing: border-box;text-align: center;}#sk-container-id-1 label.sk-toggleable__label-arrow:before {content: \"▸\";float: left;margin-right: 0.25em;color: #696969;}#sk-container-id-1 label.sk-toggleable__label-arrow:hover:before {color: black;}#sk-container-id-1 div.sk-estimator:hover label.sk-toggleable__label-arrow:before {color: black;}#sk-container-id-1 div.sk-toggleable__content {max-height: 0;max-width: 0;overflow: hidden;text-align: left;background-color: #f0f8ff;}#sk-container-id-1 div.sk-toggleable__content pre {margin: 0.2em;color: black;border-radius: 0.25em;background-color: #f0f8ff;}#sk-container-id-1 input.sk-toggleable__control:checked~div.sk-toggleable__content {max-height: 200px;max-width: 100%;overflow: auto;}#sk-container-id-1 input.sk-toggleable__control:checked~label.sk-toggleable__label-arrow:before {content: \"▾\";}#sk-container-id-1 div.sk-estimator input.sk-toggleable__control:checked~label.sk-toggleable__label {background-color: #d4ebff;}#sk-container-id-1 div.sk-label input.sk-toggleable__control:checked~label.sk-toggleable__label {background-color: #d4ebff;}#sk-container-id-1 input.sk-hidden--visually {border: 0;clip: rect(1px 1px 1px 1px);clip: rect(1px, 1px, 1px, 1px);height: 1px;margin: -1px;overflow: hidden;padding: 0;position: absolute;width: 1px;}#sk-container-id-1 div.sk-estimator {font-family: monospace;background-color: #f0f8ff;border: 1px dotted black;border-radius: 0.25em;box-sizing: border-box;margin-bottom: 0.5em;}#sk-container-id-1 div.sk-estimator:hover {background-color: #d4ebff;}#sk-container-id-1 div.sk-parallel-item::after {content: \"\";width: 100%;border-bottom: 1px solid gray;flex-grow: 1;}#sk-container-id-1 div.sk-label:hover label.sk-toggleable__label {background-color: #d4ebff;}#sk-container-id-1 div.sk-serial::before {content: \"\";position: absolute;border-left: 1px solid gray;box-sizing: border-box;top: 0;bottom: 0;left: 50%;z-index: 0;}#sk-container-id-1 div.sk-serial {display: flex;flex-direction: column;align-items: center;background-color: white;padding-right: 0.2em;padding-left: 0.2em;position: relative;}#sk-container-id-1 div.sk-item {position: relative;z-index: 1;}#sk-container-id-1 div.sk-parallel {display: flex;align-items: stretch;justify-content: center;background-color: white;position: relative;}#sk-container-id-1 div.sk-item::before, #sk-container-id-1 div.sk-parallel-item::before {content: \"\";position: absolute;border-left: 1px solid gray;box-sizing: border-box;top: 0;bottom: 0;left: 50%;z-index: -1;}#sk-container-id-1 div.sk-parallel-item {display: flex;flex-direction: column;z-index: 1;position: relative;background-color: white;}#sk-container-id-1 div.sk-parallel-item:first-child::after {align-self: flex-end;width: 50%;}#sk-container-id-1 div.sk-parallel-item:last-child::after {align-self: flex-start;width: 50%;}#sk-container-id-1 div.sk-parallel-item:only-child::after {width: 0;}#sk-container-id-1 div.sk-dashed-wrapped {border: 1px dashed gray;margin: 0 0.4em 0.5em 0.4em;box-sizing: border-box;padding-bottom: 0.4em;background-color: white;}#sk-container-id-1 div.sk-label label {font-family: monospace;font-weight: bold;display: inline-block;line-height: 1.2em;}#sk-container-id-1 div.sk-label-container {text-align: center;}#sk-container-id-1 div.sk-container {/* jupyter's `normalize.less` sets `[hidden] { display: none; }` but bootstrap.min.css set `[hidden] { display: none !important; }` so we also need the `!important` here to be able to override the default hidden behavior on the sphinx rendered scikit-learn.org. See: https://github.com/scikit-learn/scikit-learn/issues/21755 */display: inline-block !important;position: relative;}#sk-container-id-1 div.sk-text-repr-fallback {display: none;}</style><div id=\"sk-container-id-1\" class=\"sk-top-container\"><div class=\"sk-text-repr-fallback\"><pre>Pipeline(steps=[(&#x27;pre&#x27;,\n",
       "                 Pipeline(steps=[(&#x27;num_imputer&#x27;,\n",
       "                                  SklearnTransformerWrapper(transformer=SimpleImputer(),\n",
       "                                                            variables=[&#x27;pclass&#x27;,\n",
       "                                                                       &#x27;age&#x27;,\n",
       "                                                                       &#x27;sibsp&#x27;,\n",
       "                                                                       &#x27;parch&#x27;,\n",
       "                                                                       &#x27;fare&#x27;])),\n",
       "                                 (&#x27;obj_imputer&#x27;,\n",
       "                                  SklearnTransformerWrapper(transformer=SimpleImputer(strategy=&#x27;most_frequent&#x27;),\n",
       "                                                            variables=[&#x27;sex&#x27;,\n",
       "                                                                       &#x27;embarked&#x27;]))])),\n",
       "                (&#x27;select&#x27;,\n",
       "                 SelectByTargetMeanPerformance(strategy=&#x27;equal_frequency&#x27;,\n",
       "                                               threshold=False))])</pre><b>In a Jupyter environment, please rerun this cell to show the HTML representation or trust the notebook. <br />On GitHub, the HTML representation is unable to render, please try loading this page with nbviewer.org.</b></div><div class=\"sk-container\" hidden><div class=\"sk-item sk-dashed-wrapped\"><div class=\"sk-label-container\"><div class=\"sk-label sk-toggleable\"><input class=\"sk-toggleable__control sk-hidden--visually\" id=\"sk-estimator-id-1\" type=\"checkbox\" ><label for=\"sk-estimator-id-1\" class=\"sk-toggleable__label sk-toggleable__label-arrow\">Pipeline</label><div class=\"sk-toggleable__content\"><pre>Pipeline(steps=[(&#x27;pre&#x27;,\n",
       "                 Pipeline(steps=[(&#x27;num_imputer&#x27;,\n",
       "                                  SklearnTransformerWrapper(transformer=SimpleImputer(),\n",
       "                                                            variables=[&#x27;pclass&#x27;,\n",
       "                                                                       &#x27;age&#x27;,\n",
       "                                                                       &#x27;sibsp&#x27;,\n",
       "                                                                       &#x27;parch&#x27;,\n",
       "                                                                       &#x27;fare&#x27;])),\n",
       "                                 (&#x27;obj_imputer&#x27;,\n",
       "                                  SklearnTransformerWrapper(transformer=SimpleImputer(strategy=&#x27;most_frequent&#x27;),\n",
       "                                                            variables=[&#x27;sex&#x27;,\n",
       "                                                                       &#x27;embarked&#x27;]))])),\n",
       "                (&#x27;select&#x27;,\n",
       "                 SelectByTargetMeanPerformance(strategy=&#x27;equal_frequency&#x27;,\n",
       "                                               threshold=False))])</pre></div></div></div><div class=\"sk-serial\"><div class=\"sk-item\"><div class=\"sk-label-container\"><div class=\"sk-label sk-toggleable\"><input class=\"sk-toggleable__control sk-hidden--visually\" id=\"sk-estimator-id-2\" type=\"checkbox\" ><label for=\"sk-estimator-id-2\" class=\"sk-toggleable__label sk-toggleable__label-arrow\">pre: Pipeline</label><div class=\"sk-toggleable__content\"><pre>Pipeline(steps=[(&#x27;num_imputer&#x27;,\n",
       "                 SklearnTransformerWrapper(transformer=SimpleImputer(),\n",
       "                                           variables=[&#x27;pclass&#x27;, &#x27;age&#x27;, &#x27;sibsp&#x27;,\n",
       "                                                      &#x27;parch&#x27;, &#x27;fare&#x27;])),\n",
       "                (&#x27;obj_imputer&#x27;,\n",
       "                 SklearnTransformerWrapper(transformer=SimpleImputer(strategy=&#x27;most_frequent&#x27;),\n",
       "                                           variables=[&#x27;sex&#x27;, &#x27;embarked&#x27;]))])</pre></div></div></div><div class=\"sk-serial\"><div class=\"sk-item sk-dashed-wrapped\"><div class=\"sk-label-container\"><div class=\"sk-label sk-toggleable\"><input class=\"sk-toggleable__control sk-hidden--visually\" id=\"sk-estimator-id-3\" type=\"checkbox\" ><label for=\"sk-estimator-id-3\" class=\"sk-toggleable__label sk-toggleable__label-arrow\">num_imputer: SklearnTransformerWrapper</label><div class=\"sk-toggleable__content\"><pre>SklearnTransformerWrapper(transformer=SimpleImputer(),\n",
       "                          variables=[&#x27;pclass&#x27;, &#x27;age&#x27;, &#x27;sibsp&#x27;, &#x27;parch&#x27;, &#x27;fare&#x27;])</pre></div></div></div><div class=\"sk-parallel\"><div class=\"sk-parallel-item\"><div class=\"sk-item\"><div class=\"sk-label-container\"><div class=\"sk-label sk-toggleable\"><input class=\"sk-toggleable__control sk-hidden--visually\" id=\"sk-estimator-id-4\" type=\"checkbox\" ><label for=\"sk-estimator-id-4\" class=\"sk-toggleable__label sk-toggleable__label-arrow\">transformer: SimpleImputer</label><div class=\"sk-toggleable__content\"><pre>SimpleImputer()</pre></div></div></div><div class=\"sk-serial\"><div class=\"sk-item\"><div class=\"sk-estimator sk-toggleable\"><input class=\"sk-toggleable__control sk-hidden--visually\" id=\"sk-estimator-id-5\" type=\"checkbox\" ><label for=\"sk-estimator-id-5\" class=\"sk-toggleable__label sk-toggleable__label-arrow\">SimpleImputer</label><div class=\"sk-toggleable__content\"><pre>SimpleImputer()</pre></div></div></div></div></div></div></div></div><div class=\"sk-item sk-dashed-wrapped\"><div class=\"sk-label-container\"><div class=\"sk-label sk-toggleable\"><input class=\"sk-toggleable__control sk-hidden--visually\" id=\"sk-estimator-id-6\" type=\"checkbox\" ><label for=\"sk-estimator-id-6\" class=\"sk-toggleable__label sk-toggleable__label-arrow\">obj_imputer: SklearnTransformerWrapper</label><div class=\"sk-toggleable__content\"><pre>SklearnTransformerWrapper(transformer=SimpleImputer(strategy=&#x27;most_frequent&#x27;),\n",
       "                          variables=[&#x27;sex&#x27;, &#x27;embarked&#x27;])</pre></div></div></div><div class=\"sk-parallel\"><div class=\"sk-parallel-item\"><div class=\"sk-item\"><div class=\"sk-label-container\"><div class=\"sk-label sk-toggleable\"><input class=\"sk-toggleable__control sk-hidden--visually\" id=\"sk-estimator-id-7\" type=\"checkbox\" ><label for=\"sk-estimator-id-7\" class=\"sk-toggleable__label sk-toggleable__label-arrow\">transformer: SimpleImputer</label><div class=\"sk-toggleable__content\"><pre>SimpleImputer(strategy=&#x27;most_frequent&#x27;)</pre></div></div></div><div class=\"sk-serial\"><div class=\"sk-item\"><div class=\"sk-estimator sk-toggleable\"><input class=\"sk-toggleable__control sk-hidden--visually\" id=\"sk-estimator-id-8\" type=\"checkbox\" ><label for=\"sk-estimator-id-8\" class=\"sk-toggleable__label sk-toggleable__label-arrow\">SimpleImputer</label><div class=\"sk-toggleable__content\"><pre>SimpleImputer(strategy=&#x27;most_frequent&#x27;)</pre></div></div></div></div></div></div></div></div></div></div><div class=\"sk-item\"><div class=\"sk-estimator sk-toggleable\"><input class=\"sk-toggleable__control sk-hidden--visually\" id=\"sk-estimator-id-9\" type=\"checkbox\" ><label for=\"sk-estimator-id-9\" class=\"sk-toggleable__label sk-toggleable__label-arrow\">SelectByTargetMeanPerformance</label><div class=\"sk-toggleable__content\"><pre>SelectByTargetMeanPerformance(strategy=&#x27;equal_frequency&#x27;, threshold=False)</pre></div></div></div></div></div></div></div>"
      ],
      "text/plain": [
       "Pipeline(steps=[('pre',\n",
       "                 Pipeline(steps=[('num_imputer',\n",
       "                                  SklearnTransformerWrapper(transformer=SimpleImputer(),\n",
       "                                                            variables=['pclass',\n",
       "                                                                       'age',\n",
       "                                                                       'sibsp',\n",
       "                                                                       'parch',\n",
       "                                                                       'fare'])),\n",
       "                                 ('obj_imputer',\n",
       "                                  SklearnTransformerWrapper(transformer=SimpleImputer(strategy='most_frequent'),\n",
       "                                                            variables=['sex',\n",
       "                                                                       'embarked']))])),\n",
       "                ('select',\n",
       "                 SelectByTargetMeanPerformance(strategy='equal_frequency',\n",
       "                                               threshold=False))])"
      ]
     },
     "execution_count": 6,
     "metadata": {},
     "output_type": "execute_result"
    }
   ],
   "source": [
    "select = SelectByTargetMeanPerformance(\n",
    "    bins=5,\n",
    "    strategy=\"equal_frequency\",\n",
    "    scoring=\"roc_auc\",\n",
    "    cv=3,\n",
    "    threshold=False,\n",
    "    regression=False\n",
    ")\n",
    "\n",
    "selector = Pipeline(steps=[\n",
    "    (\"pre\", get_preprocessor(X_train)),\n",
    "    (\"select\", select)\n",
    "])\n",
    "\n",
    "selector.fit(X_train, y_train)"
   ]
  },
  {
   "cell_type": "markdown",
   "metadata": {
    "id": "UcRyDYrS_WDv"
   },
   "source": [
    "### Ranking the Features"
   ]
  },
  {
   "cell_type": "code",
   "execution_count": 7,
   "metadata": {
    "colab": {
     "base_uri": "https://localhost:8080/"
    },
    "executionInfo": {
     "elapsed": 131,
     "status": "ok",
     "timestamp": 1705403610145,
     "user": {
      "displayName": "Mohammed Misbahullah Sheriff",
      "userId": "04478462769959085958"
     },
     "user_tz": -330
    },
    "id": "9v94ISoO7wyL",
    "outputId": "3b109e34-6d20-4ec0-ff7d-ae018f8b97fb"
   },
   "outputs": [
    {
     "data": {
      "text/plain": [
       "{'pclass': 0.6631303030520251,\n",
       " 'sex': 0.7703000413372233,\n",
       " 'age': 0.5506418534095358,\n",
       " 'sibsp': 0.5169393011858766,\n",
       " 'parch': 0.5233537391071638,\n",
       " 'fare': 0.6919530319027104,\n",
       " 'embarked': 0.586343594590729}"
      ]
     },
     "execution_count": 7,
     "metadata": {},
     "output_type": "execute_result"
    }
   ],
   "source": [
    "scores = selector.named_steps[\"select\"].feature_performance_\n",
    "scores"
   ]
  },
  {
   "cell_type": "code",
   "execution_count": 8,
   "metadata": {
    "colab": {
     "base_uri": "https://localhost:8080/",
     "height": 456
    },
    "executionInfo": {
     "elapsed": 668,
     "status": "ok",
     "timestamp": 1705403719056,
     "user": {
      "displayName": "Mohammed Misbahullah Sheriff",
      "userId": "04478462769959085958"
     },
     "user_tz": -330
    },
    "id": "CRw1XO_h9US5",
    "outputId": "e42d0ca7-537f-4dc5-c717-da64c7d0323b"
   },
   "outputs": [
    {
     "data": {
      "image/png": "[encoded data removed]",
      "text/plain": [
       "<Figure size 1000x400 with 1 Axes>"
      ]
     },
     "metadata": {},
     "output_type": "display_data"
    }
   ],
   "source": [
    "fig, ax = plt.subplots(figsize=(10, 4))\n",
    "\n",
    "(\n",
    "    pd\n",
    "      .Series(scores)\n",
    "      .sort_values(ascending=False)\n",
    "      .plot(kind=\"bar\",\n",
    "            ax=ax,\n",
    "            **dict(edgecolor=\"black\"))\n",
    ")\n",
    "\n",
    "ax.axhline(np.mean([value for value in scores.values()]),\n",
    "           color=\"red\",\n",
    "           linestyle=\"--\",\n",
    "           label=\"Threshold\")\n",
    "\n",
    "ax.set_xticklabels(ax.get_xticklabels(),\n",
    "                   rotation=45,\n",
    "                   ha=\"right\")\n",
    "\n",
    "ax.set(xlabel=\"Feature\",\n",
    "       ylabel=\"ROC-AUC Score\",\n",
    "       title=\"Feature Importances\")\n",
    "\n",
    "ax.legend(loc=\"upper right\", fontsize=11)\n",
    "\n",
    "plt.show()"
   ]
  },
  {
   "cell_type": "markdown",
   "metadata": {
    "id": "MpqsAcA__ada"
   },
   "source": [
    "### Dropping the Features"
   ]
  },
  {
   "cell_type": "code",
   "execution_count": 9,
   "metadata": {
    "colab": {
     "base_uri": "https://localhost:8080/"
    },
    "executionInfo": {
     "elapsed": 124,
     "status": "ok",
     "timestamp": 1705403661874,
     "user": {
      "displayName": "Mohammed Misbahullah Sheriff",
      "userId": "04478462769959085958"
     },
     "user_tz": -330
    },
    "id": "WUpaq1Tr9fY5",
    "outputId": "0ed46e20-ebb6-4c52-8a30-d03470edc9d4"
   },
   "outputs": [
    {
     "data": {
      "text/plain": [
       "['age', 'sibsp', 'parch', 'embarked']"
      ]
     },
     "execution_count": 9,
     "metadata": {},
     "output_type": "execute_result"
    }
   ],
   "source": [
    "selector.named_steps[\"select\"].features_to_drop_"
   ]
  },
  {
   "cell_type": "code",
   "execution_count": 10,
   "metadata": {
    "colab": {
     "base_uri": "https://localhost:8080/",
     "height": 206
    },
    "executionInfo": {
     "elapsed": 164,
     "status": "ok",
     "timestamp": 1705403780822,
     "user": {
      "displayName": "Mohammed Misbahullah Sheriff",
      "userId": "04478462769959085958"
     },
     "user_tz": -330
    },
    "id": "RGdnjS1b-ryK",
    "outputId": "676c1c85-f57c-4044-9d16-56d50d5639f4"
   },
   "outputs": [
    {
     "data": {
      "text/html": [
       "<div>\n",
       "<style scoped>\n",
       "    .dataframe tbody tr th:only-of-type {\n",
       "        vertical-align: middle;\n",
       "    }\n",
       "\n",
       "    .dataframe tbody tr th {\n",
       "        vertical-align: top;\n",
       "    }\n",
       "\n",
       "    .dataframe thead th {\n",
       "        text-align: right;\n",
       "    }\n",
       "</style>\n",
       "<table border=\"1\" class=\"dataframe\">\n",
       "  <thead>\n",
       "    <tr style=\"text-align: right;\">\n",
       "      <th></th>\n",
       "      <th>pclass</th>\n",
       "      <th>sex</th>\n",
       "      <th>fare</th>\n",
       "    </tr>\n",
       "  </thead>\n",
       "  <tbody>\n",
       "    <tr>\n",
       "      <th>692</th>\n",
       "      <td>3.0</td>\n",
       "      <td>male</td>\n",
       "      <td>56.4958</td>\n",
       "    </tr>\n",
       "    <tr>\n",
       "      <th>481</th>\n",
       "      <td>2.0</td>\n",
       "      <td>male</td>\n",
       "      <td>0.0000</td>\n",
       "    </tr>\n",
       "    <tr>\n",
       "      <th>527</th>\n",
       "      <td>1.0</td>\n",
       "      <td>male</td>\n",
       "      <td>221.7792</td>\n",
       "    </tr>\n",
       "    <tr>\n",
       "      <th>855</th>\n",
       "      <td>3.0</td>\n",
       "      <td>female</td>\n",
       "      <td>9.3500</td>\n",
       "    </tr>\n",
       "    <tr>\n",
       "      <th>801</th>\n",
       "      <td>2.0</td>\n",
       "      <td>female</td>\n",
       "      <td>26.2500</td>\n",
       "    </tr>\n",
       "  </tbody>\n",
       "</table>\n",
       "</div>"
      ],
      "text/plain": [
       "     pclass     sex      fare\n",
       "692     3.0    male   56.4958\n",
       "481     2.0    male    0.0000\n",
       "527     1.0    male  221.7792\n",
       "855     3.0  female    9.3500\n",
       "801     2.0  female   26.2500"
      ]
     },
     "execution_count": 10,
     "metadata": {},
     "output_type": "execute_result"
    }
   ],
   "source": [
    "selector.transform(X_train).head()"
   ]
  },
  {
   "cell_type": "markdown",
   "metadata": {
    "id": "2ya37-_UAhd5"
   },
   "source": [
    "## Demo 2 - Regression"
   ]
  },
  {
   "cell_type": "code",
   "execution_count": 11,
   "metadata": {
    "colab": {
     "base_uri": "https://localhost:8080/"
    },
    "executionInfo": {
     "elapsed": 128,
     "status": "ok",
     "timestamp": 1705404889564,
     "user": {
      "displayName": "Mohammed Misbahullah Sheriff",
      "userId": "04478462769959085958"
     },
     "user_tz": -330
    },
    "id": "fcyQXpdA_Izh",
    "outputId": "db1b2974-963c-4814-a852-9760b20eb0d4"
   },
   "outputs": [
    {
     "name": "stdout",
     "output_type": "stream",
     "text": [
      "(5540, 11) (5540,)\n",
      "(1386, 11) (1386,)\n"
     ]
    }
   ],
   "source": [
    "X = cars.drop(columns=[\"selling_price\", \"name\", \"edition\", \"company\", \"model\"])\n",
    "y = cars.selling_price.copy()\n",
    "\n",
    "X_train, X_test, y_train, y_test = train_test_split(X,\n",
    "                                                    y,\n",
    "                                                    test_size=0.2,\n",
    "                                                    random_state=42)\n",
    "\n",
    "print(X_train.shape, y_train.shape)\n",
    "print(X_test.shape, y_test.shape)"
   ]
  },
  {
   "cell_type": "markdown",
   "metadata": {
    "id": "eEIrxhjaA1ma"
   },
   "source": [
    "### Training the Selector"
   ]
  },
  {
   "cell_type": "code",
   "execution_count": 12,
   "metadata": {
    "colab": {
     "base_uri": "https://localhost:8080/",
     "height": 313
    },
    "executionInfo": {
     "elapsed": 1451,
     "status": "ok",
     "timestamp": 1705404896169,
     "user": {
      "displayName": "Mohammed Misbahullah Sheriff",
      "userId": "04478462769959085958"
     },
     "user_tz": -330
    },
    "id": "UImg-35ZAtDi",
    "outputId": "155a0593-3116-413b-a59b-cc9a0714e441"
   },
   "outputs": [
    {
     "data": {
      "text/html": [
       "<style>#sk-container-id-2 {color: black;background-color: white;}#sk-container-id-2 pre{padding: 0;}#sk-container-id-2 div.sk-toggleable {background-color: white;}#sk-container-id-2 label.sk-toggleable__label {cursor: pointer;display: block;width: 100%;margin-bottom: 0;padding: 0.3em;box-sizing: border-box;text-align: center;}#sk-container-id-2 label.sk-toggleable__label-arrow:before {content: \"▸\";float: left;margin-right: 0.25em;color: #696969;}#sk-container-id-2 label.sk-toggleable__label-arrow:hover:before {color: black;}#sk-container-id-2 div.sk-estimator:hover label.sk-toggleable__label-arrow:before {color: black;}#sk-container-id-2 div.sk-toggleable__content {max-height: 0;max-width: 0;overflow: hidden;text-align: left;background-color: #f0f8ff;}#sk-container-id-2 div.sk-toggleable__content pre {margin: 0.2em;color: black;border-radius: 0.25em;background-color: #f0f8ff;}#sk-container-id-2 input.sk-toggleable__control:checked~div.sk-toggleable__content {max-height: 200px;max-width: 100%;overflow: auto;}#sk-container-id-2 input.sk-toggleable__control:checked~label.sk-toggleable__label-arrow:before {content: \"▾\";}#sk-container-id-2 div.sk-estimator input.sk-toggleable__control:checked~label.sk-toggleable__label {background-color: #d4ebff;}#sk-container-id-2 div.sk-label input.sk-toggleable__control:checked~label.sk-toggleable__label {background-color: #d4ebff;}#sk-container-id-2 input.sk-hidden--visually {border: 0;clip: rect(1px 1px 1px 1px);clip: rect(1px, 1px, 1px, 1px);height: 1px;margin: -1px;overflow: hidden;padding: 0;position: absolute;width: 1px;}#sk-container-id-2 div.sk-estimator {font-family: monospace;background-color: #f0f8ff;border: 1px dotted black;border-radius: 0.25em;box-sizing: border-box;margin-bottom: 0.5em;}#sk-container-id-2 div.sk-estimator:hover {background-color: #d4ebff;}#sk-container-id-2 div.sk-parallel-item::after {content: \"\";width: 100%;border-bottom: 1px solid gray;flex-grow: 1;}#sk-container-id-2 div.sk-label:hover label.sk-toggleable__label {background-color: #d4ebff;}#sk-container-id-2 div.sk-serial::before {content: \"\";position: absolute;border-left: 1px solid gray;box-sizing: border-box;top: 0;bottom: 0;left: 50%;z-index: 0;}#sk-container-id-2 div.sk-serial {display: flex;flex-direction: column;align-items: center;background-color: white;padding-right: 0.2em;padding-left: 0.2em;position: relative;}#sk-container-id-2 div.sk-item {position: relative;z-index: 1;}#sk-container-id-2 div.sk-parallel {display: flex;align-items: stretch;justify-content: center;background-color: white;position: relative;}#sk-container-id-2 div.sk-item::before, #sk-container-id-2 div.sk-parallel-item::before {content: \"\";position: absolute;border-left: 1px solid gray;box-sizing: border-box;top: 0;bottom: 0;left: 50%;z-index: -1;}#sk-container-id-2 div.sk-parallel-item {display: flex;flex-direction: column;z-index: 1;position: relative;background-color: white;}#sk-container-id-2 div.sk-parallel-item:first-child::after {align-self: flex-end;width: 50%;}#sk-container-id-2 div.sk-parallel-item:last-child::after {align-self: flex-start;width: 50%;}#sk-container-id-2 div.sk-parallel-item:only-child::after {width: 0;}#sk-container-id-2 div.sk-dashed-wrapped {border: 1px dashed gray;margin: 0 0.4em 0.5em 0.4em;box-sizing: border-box;padding-bottom: 0.4em;background-color: white;}#sk-container-id-2 div.sk-label label {font-family: monospace;font-weight: bold;display: inline-block;line-height: 1.2em;}#sk-container-id-2 div.sk-label-container {text-align: center;}#sk-container-id-2 div.sk-container {/* jupyter's `normalize.less` sets `[hidden] { display: none; }` but bootstrap.min.css set `[hidden] { display: none !important; }` so we also need the `!important` here to be able to override the default hidden behavior on the sphinx rendered scikit-learn.org. See: https://github.com/scikit-learn/scikit-learn/issues/21755 */display: inline-block !important;position: relative;}#sk-container-id-2 div.sk-text-repr-fallback {display: none;}</style><div id=\"sk-container-id-2\" class=\"sk-top-container\"><div class=\"sk-text-repr-fallback\"><pre>Pipeline(steps=[(&#x27;pre&#x27;,\n",
       "                 Pipeline(steps=[(&#x27;num_imputer&#x27;,\n",
       "                                  SklearnTransformerWrapper(transformer=SimpleImputer(),\n",
       "                                                            variables=[&#x27;year&#x27;,\n",
       "                                                                       &#x27;km_driven&#x27;,\n",
       "                                                                       &#x27;mileage_mpg&#x27;,\n",
       "                                                                       &#x27;engine_cc&#x27;,\n",
       "                                                                       &#x27;max_power_bhp&#x27;,\n",
       "                                                                       &#x27;torque_nm&#x27;,\n",
       "                                                                       &#x27;seats&#x27;])),\n",
       "                                 (&#x27;obj_imputer&#x27;,\n",
       "                                  SklearnTransformerWrapper(transformer=SimpleImputer(strategy=&#x27;most_frequent&#x27;),\n",
       "                                                            variables=[&#x27;owner&#x27;,\n",
       "                                                                       &#x27;fuel&#x27;,\n",
       "                                                                       &#x27;seller_type&#x27;,\n",
       "                                                                       &#x27;transmission&#x27;]))])),\n",
       "                (&#x27;select&#x27;,\n",
       "                 SelectByTargetMeanPerformance(regression=True, scoring=&#x27;r2&#x27;,\n",
       "                                               threshold=False))])</pre><b>In a Jupyter environment, please rerun this cell to show the HTML representation or trust the notebook. <br />On GitHub, the HTML representation is unable to render, please try loading this page with nbviewer.org.</b></div><div class=\"sk-container\" hidden><div class=\"sk-item sk-dashed-wrapped\"><div class=\"sk-label-container\"><div class=\"sk-label sk-toggleable\"><input class=\"sk-toggleable__control sk-hidden--visually\" id=\"sk-estimator-id-10\" type=\"checkbox\" ><label for=\"sk-estimator-id-10\" class=\"sk-toggleable__label sk-toggleable__label-arrow\">Pipeline</label><div class=\"sk-toggleable__content\"><pre>Pipeline(steps=[(&#x27;pre&#x27;,\n",
       "                 Pipeline(steps=[(&#x27;num_imputer&#x27;,\n",
       "                                  SklearnTransformerWrapper(transformer=SimpleImputer(),\n",
       "                                                            variables=[&#x27;year&#x27;,\n",
       "                                                                       &#x27;km_driven&#x27;,\n",
       "                                                                       &#x27;mileage_mpg&#x27;,\n",
       "                                                                       &#x27;engine_cc&#x27;,\n",
       "                                                                       &#x27;max_power_bhp&#x27;,\n",
       "                                                                       &#x27;torque_nm&#x27;,\n",
       "                                                                       &#x27;seats&#x27;])),\n",
       "                                 (&#x27;obj_imputer&#x27;,\n",
       "                                  SklearnTransformerWrapper(transformer=SimpleImputer(strategy=&#x27;most_frequent&#x27;),\n",
       "                                                            variables=[&#x27;owner&#x27;,\n",
       "                                                                       &#x27;fuel&#x27;,\n",
       "                                                                       &#x27;seller_type&#x27;,\n",
       "                                                                       &#x27;transmission&#x27;]))])),\n",
       "                (&#x27;select&#x27;,\n",
       "                 SelectByTargetMeanPerformance(regression=True, scoring=&#x27;r2&#x27;,\n",
       "                                               threshold=False))])</pre></div></div></div><div class=\"sk-serial\"><div class=\"sk-item\"><div class=\"sk-label-container\"><div class=\"sk-label sk-toggleable\"><input class=\"sk-toggleable__control sk-hidden--visually\" id=\"sk-estimator-id-11\" type=\"checkbox\" ><label for=\"sk-estimator-id-11\" class=\"sk-toggleable__label sk-toggleable__label-arrow\">pre: Pipeline</label><div class=\"sk-toggleable__content\"><pre>Pipeline(steps=[(&#x27;num_imputer&#x27;,\n",
       "                 SklearnTransformerWrapper(transformer=SimpleImputer(),\n",
       "                                           variables=[&#x27;year&#x27;, &#x27;km_driven&#x27;,\n",
       "                                                      &#x27;mileage_mpg&#x27;,\n",
       "                                                      &#x27;engine_cc&#x27;,\n",
       "                                                      &#x27;max_power_bhp&#x27;,\n",
       "                                                      &#x27;torque_nm&#x27;, &#x27;seats&#x27;])),\n",
       "                (&#x27;obj_imputer&#x27;,\n",
       "                 SklearnTransformerWrapper(transformer=SimpleImputer(strategy=&#x27;most_frequent&#x27;),\n",
       "                                           variables=[&#x27;owner&#x27;, &#x27;fuel&#x27;,\n",
       "                                                      &#x27;seller_type&#x27;,\n",
       "                                                      &#x27;transmission&#x27;]))])</pre></div></div></div><div class=\"sk-serial\"><div class=\"sk-item sk-dashed-wrapped\"><div class=\"sk-label-container\"><div class=\"sk-label sk-toggleable\"><input class=\"sk-toggleable__control sk-hidden--visually\" id=\"sk-estimator-id-12\" type=\"checkbox\" ><label for=\"sk-estimator-id-12\" class=\"sk-toggleable__label sk-toggleable__label-arrow\">num_imputer: SklearnTransformerWrapper</label><div class=\"sk-toggleable__content\"><pre>SklearnTransformerWrapper(transformer=SimpleImputer(),\n",
       "                          variables=[&#x27;year&#x27;, &#x27;km_driven&#x27;, &#x27;mileage_mpg&#x27;,\n",
       "                                     &#x27;engine_cc&#x27;, &#x27;max_power_bhp&#x27;, &#x27;torque_nm&#x27;,\n",
       "                                     &#x27;seats&#x27;])</pre></div></div></div><div class=\"sk-parallel\"><div class=\"sk-parallel-item\"><div class=\"sk-item\"><div class=\"sk-label-container\"><div class=\"sk-label sk-toggleable\"><input class=\"sk-toggleable__control sk-hidden--visually\" id=\"sk-estimator-id-13\" type=\"checkbox\" ><label for=\"sk-estimator-id-13\" class=\"sk-toggleable__label sk-toggleable__label-arrow\">transformer: SimpleImputer</label><div class=\"sk-toggleable__content\"><pre>SimpleImputer()</pre></div></div></div><div class=\"sk-serial\"><div class=\"sk-item\"><div class=\"sk-estimator sk-toggleable\"><input class=\"sk-toggleable__control sk-hidden--visually\" id=\"sk-estimator-id-14\" type=\"checkbox\" ><label for=\"sk-estimator-id-14\" class=\"sk-toggleable__label sk-toggleable__label-arrow\">SimpleImputer</label><div class=\"sk-toggleable__content\"><pre>SimpleImputer()</pre></div></div></div></div></div></div></div></div><div class=\"sk-item sk-dashed-wrapped\"><div class=\"sk-label-container\"><div class=\"sk-label sk-toggleable\"><input class=\"sk-toggleable__control sk-hidden--visually\" id=\"sk-estimator-id-15\" type=\"checkbox\" ><label for=\"sk-estimator-id-15\" class=\"sk-toggleable__label sk-toggleable__label-arrow\">obj_imputer: SklearnTransformerWrapper</label><div class=\"sk-toggleable__content\"><pre>SklearnTransformerWrapper(transformer=SimpleImputer(strategy=&#x27;most_frequent&#x27;),\n",
       "                          variables=[&#x27;owner&#x27;, &#x27;fuel&#x27;, &#x27;seller_type&#x27;,\n",
       "                                     &#x27;transmission&#x27;])</pre></div></div></div><div class=\"sk-parallel\"><div class=\"sk-parallel-item\"><div class=\"sk-item\"><div class=\"sk-label-container\"><div class=\"sk-label sk-toggleable\"><input class=\"sk-toggleable__control sk-hidden--visually\" id=\"sk-estimator-id-16\" type=\"checkbox\" ><label for=\"sk-estimator-id-16\" class=\"sk-toggleable__label sk-toggleable__label-arrow\">transformer: SimpleImputer</label><div class=\"sk-toggleable__content\"><pre>SimpleImputer(strategy=&#x27;most_frequent&#x27;)</pre></div></div></div><div class=\"sk-serial\"><div class=\"sk-item\"><div class=\"sk-estimator sk-toggleable\"><input class=\"sk-toggleable__control sk-hidden--visually\" id=\"sk-estimator-id-17\" type=\"checkbox\" ><label for=\"sk-estimator-id-17\" class=\"sk-toggleable__label sk-toggleable__label-arrow\">SimpleImputer</label><div class=\"sk-toggleable__content\"><pre>SimpleImputer(strategy=&#x27;most_frequent&#x27;)</pre></div></div></div></div></div></div></div></div></div></div><div class=\"sk-item\"><div class=\"sk-estimator sk-toggleable\"><input class=\"sk-toggleable__control sk-hidden--visually\" id=\"sk-estimator-id-18\" type=\"checkbox\" ><label for=\"sk-estimator-id-18\" class=\"sk-toggleable__label sk-toggleable__label-arrow\">SelectByTargetMeanPerformance</label><div class=\"sk-toggleable__content\"><pre>SelectByTargetMeanPerformance(regression=True, scoring=&#x27;r2&#x27;, threshold=False)</pre></div></div></div></div></div></div></div>"
      ],
      "text/plain": [
       "Pipeline(steps=[('pre',\n",
       "                 Pipeline(steps=[('num_imputer',\n",
       "                                  SklearnTransformerWrapper(transformer=SimpleImputer(),\n",
       "                                                            variables=['year',\n",
       "                                                                       'km_driven',\n",
       "                                                                       'mileage_mpg',\n",
       "                                                                       'engine_cc',\n",
       "                                                                       'max_power_bhp',\n",
       "                                                                       'torque_nm',\n",
       "                                                                       'seats'])),\n",
       "                                 ('obj_imputer',\n",
       "                                  SklearnTransformerWrapper(transformer=SimpleImputer(strategy='most_frequent'),\n",
       "                                                            variables=['owner',\n",
       "                                                                       'fuel',\n",
       "                                                                       'seller_type',\n",
       "                                                                       'transmission']))])),\n",
       "                ('select',\n",
       "                 SelectByTargetMeanPerformance(regression=True, scoring='r2',\n",
       "                                               threshold=False))])"
      ]
     },
     "execution_count": 12,
     "metadata": {},
     "output_type": "execute_result"
    }
   ],
   "source": [
    "select = SelectByTargetMeanPerformance(\n",
    "    bins=5,\n",
    "    strategy=\"equal_width\",\n",
    "    scoring=\"r2\",\n",
    "    cv=3,\n",
    "    threshold=False,\n",
    "    regression=True\n",
    ")\n",
    "\n",
    "selector = Pipeline(steps=[\n",
    "    (\"pre\", get_preprocessor(X_train)),\n",
    "    (\"select\", select)\n",
    "])\n",
    "\n",
    "selector.fit(X_train, y_train)"
   ]
  },
  {
   "cell_type": "markdown",
   "metadata": {
    "id": "100NJMRHETXZ"
   },
   "source": [
    "### Ranking the Features"
   ]
  },
  {
   "cell_type": "code",
   "execution_count": 13,
   "metadata": {
    "colab": {
     "base_uri": "https://localhost:8080/"
    },
    "executionInfo": {
     "elapsed": 124,
     "status": "ok",
     "timestamp": 1705404901422,
     "user": {
      "displayName": "Mohammed Misbahullah Sheriff",
      "userId": "04478462769959085958"
     },
     "user_tz": -330
    },
    "id": "fXDZhU8mA8ZR",
    "outputId": "3debd4ce-9d79-4e63-e82b-f327715a22a7"
   },
   "outputs": [
    {
     "data": {
      "text/plain": [
       "{'year': 0.15362287591598742,\n",
       " 'owner': 0.10039692138766525,\n",
       " 'fuel': 0.06783713791926083,\n",
       " 'seller_type': 0.0760277859810848,\n",
       " 'transmission': 0.232366789217481,\n",
       " 'km_driven': 0.004158630487220242,\n",
       " 'mileage_mpg': 0.041358968054251356,\n",
       " 'engine_cc': 0.2082304276735657,\n",
       " 'max_power_bhp': 0.4549500031741052,\n",
       " 'torque_nm': 0.23878514743071055,\n",
       " 'seats': 0.04215541878209624}"
      ]
     },
     "execution_count": 13,
     "metadata": {},
     "output_type": "execute_result"
    }
   ],
   "source": [
    "scores = selector.named_steps[\"select\"].feature_performance_\n",
    "scores"
   ]
  },
  {
   "cell_type": "code",
   "execution_count": 14,
   "metadata": {
    "colab": {
     "base_uri": "https://localhost:8080/",
     "height": 487
    },
    "executionInfo": {
     "elapsed": 543,
     "status": "ok",
     "timestamp": 1705405271483,
     "user": {
      "displayName": "Mohammed Misbahullah Sheriff",
      "userId": "04478462769959085958"
     },
     "user_tz": -330
    },
    "id": "7gplwk7wCdY5",
    "outputId": "168628a8-ccdc-4363-b015-39d4c573874e"
   },
   "outputs": [
    {
     "data": {
      "image/png": "[encoded data removed]",
      "text/plain": [
       "<Figure size 1000x400 with 1 Axes>"
      ]
     },
     "metadata": {},
     "output_type": "display_data"
    }
   ],
   "source": [
    "fig, ax = plt.subplots(figsize=(10, 4))\n",
    "\n",
    "(\n",
    "    pd\n",
    "      .Series(scores)\n",
    "      .sort_values(ascending=False)\n",
    "      .plot(kind=\"bar\",\n",
    "            ax=ax,\n",
    "            **dict(edgecolor=\"black\"))\n",
    ")\n",
    "\n",
    "ax.axhline(np.mean([value for value in scores.values()]),\n",
    "           color=\"red\",\n",
    "           linestyle=\"--\",\n",
    "           label=\"Threshold\")\n",
    "\n",
    "ax.set_xticklabels(ax.get_xticklabels(),\n",
    "                   rotation=45,\n",
    "                   ha=\"right\")\n",
    "\n",
    "ax.set(xlabel=\"Feature\",\n",
    "       ylabel=\"R2 Score\",\n",
    "       title=\"Feature Importances\")\n",
    "\n",
    "ax.legend(loc=\"upper right\", fontsize=11)\n",
    "\n",
    "plt.show()"
   ]
  },
  {
   "cell_type": "markdown",
   "metadata": {
    "id": "eGQN7DTTEVn-"
   },
   "source": [
    "### Dropping the Features"
   ]
  },
  {
   "cell_type": "code",
   "execution_count": 15,
   "metadata": {
    "colab": {
     "base_uri": "https://localhost:8080/"
    },
    "executionInfo": {
     "elapsed": 123,
     "status": "ok",
     "timestamp": 1705405282778,
     "user": {
      "displayName": "Mohammed Misbahullah Sheriff",
      "userId": "04478462769959085958"
     },
     "user_tz": -330
    },
    "id": "-ppHUTiUD9ku",
    "outputId": "8650dae2-8232-4d25-d01c-631ffb2ad366"
   },
   "outputs": [
    {
     "data": {
      "text/plain": [
       "['owner', 'fuel', 'seller_type', 'km_driven', 'mileage_mpg', 'seats']"
      ]
     },
     "execution_count": 15,
     "metadata": {},
     "output_type": "execute_result"
    }
   ],
   "source": [
    "selector.named_steps[\"select\"].features_to_drop_"
   ]
  },
  {
   "cell_type": "code",
   "execution_count": 16,
   "metadata": {
    "colab": {
     "base_uri": "https://localhost:8080/",
     "height": 206
    },
    "executionInfo": {
     "elapsed": 11,
     "status": "ok",
     "timestamp": 1705405283545,
     "user": {
      "displayName": "Mohammed Misbahullah Sheriff",
      "userId": "04478462769959085958"
     },
     "user_tz": -330
    },
    "id": "2wy72--JEDw1",
    "outputId": "64484326-f0ac-412d-9a9b-0b04e8892dae"
   },
   "outputs": [
    {
     "data": {
      "text/html": [
       "<div>\n",
       "<style scoped>\n",
       "    .dataframe tbody tr th:only-of-type {\n",
       "        vertical-align: middle;\n",
       "    }\n",
       "\n",
       "    .dataframe tbody tr th {\n",
       "        vertical-align: top;\n",
       "    }\n",
       "\n",
       "    .dataframe thead th {\n",
       "        text-align: right;\n",
       "    }\n",
       "</style>\n",
       "<table border=\"1\" class=\"dataframe\">\n",
       "  <thead>\n",
       "    <tr style=\"text-align: right;\">\n",
       "      <th></th>\n",
       "      <th>year</th>\n",
       "      <th>transmission</th>\n",
       "      <th>engine_cc</th>\n",
       "      <th>max_power_bhp</th>\n",
       "      <th>torque_nm</th>\n",
       "    </tr>\n",
       "  </thead>\n",
       "  <tbody>\n",
       "    <tr>\n",
       "      <th>4855</th>\n",
       "      <td>2018.0</td>\n",
       "      <td>Manual</td>\n",
       "      <td>1498.000000</td>\n",
       "      <td>98.960000</td>\n",
       "      <td>205.000000</td>\n",
       "    </tr>\n",
       "    <tr>\n",
       "      <th>3143</th>\n",
       "      <td>2010.0</td>\n",
       "      <td>Manual</td>\n",
       "      <td>1436.969449</td>\n",
       "      <td>88.033448</td>\n",
       "      <td>176.296696</td>\n",
       "    </tr>\n",
       "    <tr>\n",
       "      <th>4275</th>\n",
       "      <td>2011.0</td>\n",
       "      <td>Manual</td>\n",
       "      <td>1396.000000</td>\n",
       "      <td>90.000000</td>\n",
       "      <td>219.668960</td>\n",
       "    </tr>\n",
       "    <tr>\n",
       "      <th>2288</th>\n",
       "      <td>2009.0</td>\n",
       "      <td>Manual</td>\n",
       "      <td>1248.000000</td>\n",
       "      <td>73.900000</td>\n",
       "      <td>190.000000</td>\n",
       "    </tr>\n",
       "    <tr>\n",
       "      <th>3914</th>\n",
       "      <td>2003.0</td>\n",
       "      <td>Manual</td>\n",
       "      <td>1493.000000</td>\n",
       "      <td>82.000000</td>\n",
       "      <td>187.000000</td>\n",
       "    </tr>\n",
       "  </tbody>\n",
       "</table>\n",
       "</div>"
      ],
      "text/plain": [
       "        year transmission    engine_cc  max_power_bhp   torque_nm\n",
       "4855  2018.0       Manual  1498.000000      98.960000  205.000000\n",
       "3143  2010.0       Manual  1436.969449      88.033448  176.296696\n",
       "4275  2011.0       Manual  1396.000000      90.000000  219.668960\n",
       "2288  2009.0       Manual  1248.000000      73.900000  190.000000\n",
       "3914  2003.0       Manual  1493.000000      82.000000  187.000000"
      ]
     },
     "execution_count": 16,
     "metadata": {},
     "output_type": "execute_result"
    }
   ],
   "source": [
    "selector.transform(X_train).head()"
   ]
  }
 ],
 "metadata": {
  "colab": {
   "authorship_tag": "ABX9TyPUBYz1wvpSLMq1kYGnXlnK",
   "provenance": []
  },
  "kernelspec": {
   "display_name": "hands_on_ml",
   "language": "python",
   "name": "hands_on_ml"
  },
  "language_info": {
   "codemirror_mode": {
    "name": "ipython",
    "version": 3
   },
   "file_extension": ".py",
   "mimetype": "text/x-python",
   "name": "python",
   "nbconvert_exporter": "python",
   "pygments_lexer": "ipython3",
   "version": "3.11.0"
  }
 },
 "nbformat": 4,
 "nbformat_minor": 1
}
