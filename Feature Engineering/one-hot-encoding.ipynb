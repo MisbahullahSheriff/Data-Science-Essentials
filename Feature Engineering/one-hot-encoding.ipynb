{
 "cells": [
  {
   "cell_type": "markdown",
   "metadata": {
    "id": "1McHkBQHPyw0"
   },
   "source": [
    "# <u>Data Science Essentials</u>\n",
    "\n",
    "## <u>Topic</u>: One-hot Encoding\n",
    "\n",
    "## <u>Category</u>: Feature Engineering\n",
    "\n",
    "### <u>Created By</u>: Mohammed Misbahullah Sheriff\n",
    "- [LinkedIn](https://www.linkedin.com/in/mohammed-misbahullah-sheriff/)\n",
    "- [GitHub](https://github.com/MisbahullahSheriff)"
   ]
  },
  {
   "cell_type": "markdown",
   "metadata": {
    "id": "b9PqsxW2QCQx"
   },
   "source": [
    "## 1. Importing Libraries"
   ]
  },
  {
   "cell_type": "code",
   "execution_count": 1,
   "metadata": {
    "executionInfo": {
     "elapsed": 154,
     "status": "ok",
     "timestamp": 1706516789404,
     "user": {
      "displayName": "Mohammed Misbahullah Sheriff",
      "userId": "04478462769959085958"
     },
     "user_tz": -330
    },
    "id": "sMVG_LqHPu-P"
   },
   "outputs": [],
   "source": [
    "import numpy as np\n",
    "import pandas as pd\n",
    "\n",
    "import seaborn as sns\n",
    "\n",
    "import sklearn\n",
    "\n",
    "from sklearn.preprocessing import OneHotEncoder\n",
    "\n",
    "from sklearn.impute import SimpleImputer\n",
    "\n",
    "from sklearn.pipeline import Pipeline\n",
    "\n",
    "from sklearn.compose import ColumnTransformer\n",
    "\n",
    "from sklearn.model_selection import train_test_split\n",
    "\n",
    "from sklearn.base import BaseEstimator, TransformerMixin\n",
    "\n",
    "from sklearn.utils.validation import check_is_fitted"
   ]
  },
  {
   "cell_type": "code",
   "execution_count": 2,
   "metadata": {
    "executionInfo": {
     "elapsed": 13,
     "status": "ok",
     "timestamp": 1706516789570,
     "user": {
      "displayName": "Mohammed Misbahullah Sheriff",
      "userId": "04478462769959085958"
     },
     "user_tz": -330
    },
    "id": "0k_jU7wTSQvC"
   },
   "outputs": [],
   "source": [
    "sklearn.set_config(transform_output=\"pandas\")"
   ]
  },
  {
   "cell_type": "markdown",
   "metadata": {
    "id": "WzD_--muQcm0"
   },
   "source": [
    "## 2. Getting the Data"
   ]
  },
  {
   "cell_type": "code",
   "execution_count": 3,
   "metadata": {
    "colab": {
     "base_uri": "https://localhost:8080/",
     "height": 206
    },
    "executionInfo": {
     "elapsed": 12,
     "status": "ok",
     "timestamp": 1706516789570,
     "user": {
      "displayName": "Mohammed Misbahullah Sheriff",
      "userId": "04478462769959085958"
     },
     "user_tz": -330
    },
    "id": "o2ZwyiMTQWLv",
    "outputId": "d8d10fd6-b3d5-45af-ec7e-0e3c0ed31a19"
   },
   "outputs": [
    {
     "data": {
      "text/html": [
       "<div>\n",
       "<style scoped>\n",
       "    .dataframe tbody tr th:only-of-type {\n",
       "        vertical-align: middle;\n",
       "    }\n",
       "\n",
       "    .dataframe tbody tr th {\n",
       "        vertical-align: top;\n",
       "    }\n",
       "\n",
       "    .dataframe thead th {\n",
       "        text-align: right;\n",
       "    }\n",
       "</style>\n",
       "<table border=\"1\" class=\"dataframe\">\n",
       "  <thead>\n",
       "    <tr style=\"text-align: right;\">\n",
       "      <th></th>\n",
       "      <th>total_bill</th>\n",
       "      <th>tip</th>\n",
       "      <th>sex</th>\n",
       "      <th>smoker</th>\n",
       "      <th>day</th>\n",
       "      <th>time</th>\n",
       "      <th>size</th>\n",
       "    </tr>\n",
       "  </thead>\n",
       "  <tbody>\n",
       "    <tr>\n",
       "      <th>0</th>\n",
       "      <td>16.99</td>\n",
       "      <td>1.01</td>\n",
       "      <td>Female</td>\n",
       "      <td>No</td>\n",
       "      <td>Sun</td>\n",
       "      <td>Dinner</td>\n",
       "      <td>2</td>\n",
       "    </tr>\n",
       "    <tr>\n",
       "      <th>1</th>\n",
       "      <td>10.34</td>\n",
       "      <td>1.66</td>\n",
       "      <td>Male</td>\n",
       "      <td>No</td>\n",
       "      <td>Sun</td>\n",
       "      <td>Dinner</td>\n",
       "      <td>3</td>\n",
       "    </tr>\n",
       "    <tr>\n",
       "      <th>2</th>\n",
       "      <td>21.01</td>\n",
       "      <td>3.50</td>\n",
       "      <td>Male</td>\n",
       "      <td>No</td>\n",
       "      <td>Sun</td>\n",
       "      <td>Dinner</td>\n",
       "      <td>3</td>\n",
       "    </tr>\n",
       "    <tr>\n",
       "      <th>3</th>\n",
       "      <td>23.68</td>\n",
       "      <td>3.31</td>\n",
       "      <td>Male</td>\n",
       "      <td>No</td>\n",
       "      <td>Sun</td>\n",
       "      <td>Dinner</td>\n",
       "      <td>2</td>\n",
       "    </tr>\n",
       "    <tr>\n",
       "      <th>4</th>\n",
       "      <td>24.59</td>\n",
       "      <td>3.61</td>\n",
       "      <td>Female</td>\n",
       "      <td>No</td>\n",
       "      <td>Sun</td>\n",
       "      <td>Dinner</td>\n",
       "      <td>4</td>\n",
       "    </tr>\n",
       "  </tbody>\n",
       "</table>\n",
       "</div>"
      ],
      "text/plain": [
       "   total_bill   tip     sex smoker  day    time  size\n",
       "0       16.99  1.01  Female     No  Sun  Dinner     2\n",
       "1       10.34  1.66    Male     No  Sun  Dinner     3\n",
       "2       21.01  3.50    Male     No  Sun  Dinner     3\n",
       "3       23.68  3.31    Male     No  Sun  Dinner     2\n",
       "4       24.59  3.61  Female     No  Sun  Dinner     4"
      ]
     },
     "execution_count": 3,
     "metadata": {},
     "output_type": "execute_result"
    }
   ],
   "source": [
    "df = sns.load_dataset(\"tips\")\n",
    "df.head()"
   ]
  },
  {
   "cell_type": "markdown",
   "metadata": {},
   "source": [
    "### 2.1 Splitting into Train and Test Data"
   ]
  },
  {
   "cell_type": "code",
   "execution_count": 4,
   "metadata": {
    "colab": {
     "base_uri": "https://localhost:8080/"
    },
    "executionInfo": {
     "elapsed": 262,
     "status": "ok",
     "timestamp": 1706516789822,
     "user": {
      "displayName": "Mohammed Misbahullah Sheriff",
      "userId": "04478462769959085958"
     },
     "user_tz": -330
    },
    "id": "HmYEYwz0QjPk",
    "outputId": "6d613f56-81a7-4755-893a-5e8253a34e10"
   },
   "outputs": [
    {
     "name": "stdout",
     "output_type": "stream",
     "text": [
      "(195, 6) (195,)\n",
      "(49, 6) (49,)\n"
     ]
    }
   ],
   "source": [
    "X = df.drop(columns=\"total_bill\")\n",
    "y = df.total_bill.copy()\n",
    "\n",
    "X_train, X_test, y_train, y_test = train_test_split(\n",
    "    X,\n",
    "    y,\n",
    "    test_size=0.2,\n",
    "    random_state=7\n",
    ")\n",
    "\n",
    "print(X_train.shape, y_train.shape)\n",
    "print(X_test.shape, y_test.shape)"
   ]
  },
  {
   "cell_type": "markdown",
   "metadata": {
    "id": "dy4yYcAXUF6s"
   },
   "source": [
    "### 2.2 Features to Encode"
   ]
  },
  {
   "cell_type": "code",
   "execution_count": 5,
   "metadata": {
    "colab": {
     "base_uri": "https://localhost:8080/"
    },
    "executionInfo": {
     "elapsed": 261,
     "status": "ok",
     "timestamp": 1706516789823,
     "user": {
      "displayName": "Mohammed Misbahullah Sheriff",
      "userId": "04478462769959085958"
     },
     "user_tz": -330
    },
    "id": "PwWhJYFnUMK6",
    "outputId": "45cf47dc-0788-42d3-ccd9-25a55b6f3dbc"
   },
   "outputs": [
    {
     "data": {
      "text/plain": [
       "['sex', 'smoker', 'day', 'time']"
      ]
     },
     "execution_count": 5,
     "metadata": {},
     "output_type": "execute_result"
    }
   ],
   "source": [
    "cols = (\n",
    "    X_train\n",
    "      .select_dtypes(exclude=\"number\")\n",
    "      .columns\n",
    "      .to_list()\n",
    ")\n",
    "\n",
    "cols"
   ]
  },
  {
   "cell_type": "markdown",
   "metadata": {
    "id": "5ceM4urGSV9x"
   },
   "source": [
    "## 3. Demo 1 - Scikit-learn"
   ]
  },
  {
   "cell_type": "markdown",
   "metadata": {
    "id": "DTFyXhfQTbdZ"
   },
   "source": [
    "### 3.1 Setting up the Data Preprocessor"
   ]
  },
  {
   "cell_type": "code",
   "execution_count": 6,
   "metadata": {
    "executionInfo": {
     "elapsed": 40,
     "status": "ok",
     "timestamp": 1706516789823,
     "user": {
      "displayName": "Mohammed Misbahullah Sheriff",
      "userId": "04478462769959085958"
     },
     "user_tz": -330
    },
    "id": "iIwHTLbcRG5Y"
   },
   "outputs": [],
   "source": [
    "imputer = SimpleImputer(strategy=\"constant\", fill_value=\"missing\")\n",
    "encoder = OneHotEncoder(handle_unknown=\"ignore\", sparse_output=False)\n",
    "\n",
    "pipeline = Pipeline(steps=[\n",
    "    (\"imputer\", imputer),\n",
    "    (\"encoder\", encoder)\n",
    "])\n",
    "\n",
    "preprocessor = ColumnTransformer(transformers=[\n",
    "    (\"pre\", pipeline, cols)\n",
    "], remainder=\"passthrough\")"
   ]
  },
  {
   "cell_type": "markdown",
   "metadata": {
    "id": "4NS9pUwdURWi"
   },
   "source": [
    "### 3.2 Transforming the Data"
   ]
  },
  {
   "cell_type": "code",
   "execution_count": 7,
   "metadata": {
    "colab": {
     "base_uri": "https://localhost:8080/",
     "height": 244
    },
    "executionInfo": {
     "elapsed": 41,
     "status": "ok",
     "timestamp": 1706516789824,
     "user": {
      "displayName": "Mohammed Misbahullah Sheriff",
      "userId": "04478462769959085958"
     },
     "user_tz": -330
    },
    "id": "Ul8UGICnTgup",
    "outputId": "9b6d3f94-c41d-46d7-ddf3-b5502e0df0e1"
   },
   "outputs": [
    {
     "name": "stdout",
     "output_type": "stream",
     "text": [
      "Shape of Preprocessed Data: (195, 12)\n"
     ]
    },
    {
     "data": {
      "text/html": [
       "<div>\n",
       "<style scoped>\n",
       "    .dataframe tbody tr th:only-of-type {\n",
       "        vertical-align: middle;\n",
       "    }\n",
       "\n",
       "    .dataframe tbody tr th {\n",
       "        vertical-align: top;\n",
       "    }\n",
       "\n",
       "    .dataframe thead th {\n",
       "        text-align: right;\n",
       "    }\n",
       "</style>\n",
       "<table border=\"1\" class=\"dataframe\">\n",
       "  <thead>\n",
       "    <tr style=\"text-align: right;\">\n",
       "      <th></th>\n",
       "      <th>pre__sex_Female</th>\n",
       "      <th>pre__sex_Male</th>\n",
       "      <th>pre__smoker_No</th>\n",
       "      <th>pre__smoker_Yes</th>\n",
       "      <th>pre__day_Fri</th>\n",
       "      <th>pre__day_Sat</th>\n",
       "      <th>pre__day_Sun</th>\n",
       "      <th>pre__day_Thur</th>\n",
       "      <th>pre__time_Dinner</th>\n",
       "      <th>pre__time_Lunch</th>\n",
       "      <th>remainder__tip</th>\n",
       "      <th>remainder__size</th>\n",
       "    </tr>\n",
       "  </thead>\n",
       "  <tbody>\n",
       "    <tr>\n",
       "      <th>66</th>\n",
       "      <td>1.0</td>\n",
       "      <td>0.0</td>\n",
       "      <td>1.0</td>\n",
       "      <td>0.0</td>\n",
       "      <td>0.0</td>\n",
       "      <td>1.0</td>\n",
       "      <td>0.0</td>\n",
       "      <td>0.0</td>\n",
       "      <td>1.0</td>\n",
       "      <td>0.0</td>\n",
       "      <td>2.47</td>\n",
       "      <td>2</td>\n",
       "    </tr>\n",
       "    <tr>\n",
       "      <th>208</th>\n",
       "      <td>0.0</td>\n",
       "      <td>1.0</td>\n",
       "      <td>0.0</td>\n",
       "      <td>1.0</td>\n",
       "      <td>0.0</td>\n",
       "      <td>1.0</td>\n",
       "      <td>0.0</td>\n",
       "      <td>0.0</td>\n",
       "      <td>1.0</td>\n",
       "      <td>0.0</td>\n",
       "      <td>2.03</td>\n",
       "      <td>2</td>\n",
       "    </tr>\n",
       "    <tr>\n",
       "      <th>193</th>\n",
       "      <td>0.0</td>\n",
       "      <td>1.0</td>\n",
       "      <td>0.0</td>\n",
       "      <td>1.0</td>\n",
       "      <td>0.0</td>\n",
       "      <td>0.0</td>\n",
       "      <td>0.0</td>\n",
       "      <td>1.0</td>\n",
       "      <td>0.0</td>\n",
       "      <td>1.0</td>\n",
       "      <td>2.02</td>\n",
       "      <td>2</td>\n",
       "    </tr>\n",
       "    <tr>\n",
       "      <th>77</th>\n",
       "      <td>0.0</td>\n",
       "      <td>1.0</td>\n",
       "      <td>1.0</td>\n",
       "      <td>0.0</td>\n",
       "      <td>0.0</td>\n",
       "      <td>0.0</td>\n",
       "      <td>0.0</td>\n",
       "      <td>1.0</td>\n",
       "      <td>0.0</td>\n",
       "      <td>1.0</td>\n",
       "      <td>4.00</td>\n",
       "      <td>4</td>\n",
       "    </tr>\n",
       "    <tr>\n",
       "      <th>96</th>\n",
       "      <td>0.0</td>\n",
       "      <td>1.0</td>\n",
       "      <td>0.0</td>\n",
       "      <td>1.0</td>\n",
       "      <td>1.0</td>\n",
       "      <td>0.0</td>\n",
       "      <td>0.0</td>\n",
       "      <td>0.0</td>\n",
       "      <td>1.0</td>\n",
       "      <td>0.0</td>\n",
       "      <td>4.00</td>\n",
       "      <td>2</td>\n",
       "    </tr>\n",
       "  </tbody>\n",
       "</table>\n",
       "</div>"
      ],
      "text/plain": [
       "     pre__sex_Female  pre__sex_Male  pre__smoker_No  pre__smoker_Yes  \\\n",
       "66               1.0            0.0             1.0              0.0   \n",
       "208              0.0            1.0             0.0              1.0   \n",
       "193              0.0            1.0             0.0              1.0   \n",
       "77               0.0            1.0             1.0              0.0   \n",
       "96               0.0            1.0             0.0              1.0   \n",
       "\n",
       "     pre__day_Fri  pre__day_Sat  pre__day_Sun  pre__day_Thur  \\\n",
       "66            0.0           1.0           0.0            0.0   \n",
       "208           0.0           1.0           0.0            0.0   \n",
       "193           0.0           0.0           0.0            1.0   \n",
       "77            0.0           0.0           0.0            1.0   \n",
       "96            1.0           0.0           0.0            0.0   \n",
       "\n",
       "     pre__time_Dinner  pre__time_Lunch  remainder__tip  remainder__size  \n",
       "66                1.0              0.0            2.47                2  \n",
       "208               1.0              0.0            2.03                2  \n",
       "193               0.0              1.0            2.02                2  \n",
       "77                0.0              1.0            4.00                4  \n",
       "96                1.0              0.0            4.00                2  "
      ]
     },
     "execution_count": 7,
     "metadata": {},
     "output_type": "execute_result"
    }
   ],
   "source": [
    "X_train_enc = preprocessor.fit_transform(X_train)\n",
    "\n",
    "print(\"Shape of Preprocessed Data:\", X_train_enc.shape)\n",
    "X_train_enc.head()"
   ]
  },
  {
   "cell_type": "markdown",
   "metadata": {
    "id": "Q-Pnu39qUXnx"
   },
   "source": [
    "- The original dataset had 4 categorical features to encode\n",
    "- As a result of one-hot encoding, the 4 features were transformed into 10 features\n",
    "- The numeric variables were untouched and are located at the end of the dataset"
   ]
  },
  {
   "cell_type": "markdown",
   "metadata": {
    "id": "5UjegyJuWOrE"
   },
   "source": [
    "## 4. Demo 2 - Custom Implementation"
   ]
  },
  {
   "cell_type": "markdown",
   "metadata": {
    "id": "AGLDvUkUaSiK"
   },
   "source": [
    "### 4.1 Custom Class"
   ]
  },
  {
   "cell_type": "code",
   "execution_count": 8,
   "metadata": {
    "executionInfo": {
     "elapsed": 33,
     "status": "ok",
     "timestamp": 1706516789825,
     "user": {
      "displayName": "Mohammed Misbahullah Sheriff",
      "userId": "04478462769959085958"
     },
     "user_tz": -330
    },
    "id": "rOFLjyz_TuDM"
   },
   "outputs": [],
   "source": [
    "class CustomOHE(BaseEstimator, TransformerMixin):\n",
    "  \"\"\"\n",
    "  Description:\n",
    "  ------------\n",
    "  This class will perform one-hot encoding on given dataset\n",
    "  \"\"\"\n",
    "\n",
    "  def __init__(self,\n",
    "               drop=None,\n",
    "               variables=None,\n",
    "               handle_unknown=\"ignore\"):\n",
    "    \"\"\"\n",
    "    Parameters:\n",
    "    -----------\n",
    "    drop: str\n",
    "          To determine whether or not to drop an encoded feature. Helps to deal with multi-collinearity.\n",
    "          Possible values are ('first', 'if_binary', None)\n",
    "          - 'first' is useful for linear models where multi-collinearity can impact interpretation of coefficients\n",
    "          - 'if_binary' can be used for tree-based models\n",
    "\n",
    "    variables: list\n",
    "               List of variables to encode. If 'None', will encode all variables of object type.\n",
    "\n",
    "    handle_unknown: str\n",
    "                    Determines how to deal with unknown categories during transform.\n",
    "                    Possible values are ('ignore', error')\n",
    "    \"\"\"\n",
    "    self.drop = drop\n",
    "    self.variables = variables\n",
    "    self.handle_unknown = handle_unknown\n",
    "\n",
    "\n",
    "  def fit(self, X, y=None):\n",
    "    \"\"\"\n",
    "    Description:\n",
    "    ------------\n",
    "    Tihs method will identify the categories of each feature to encode\n",
    "\n",
    "    Parameters:\n",
    "    -----------\n",
    "    X: dataframe\n",
    "       The dataset to encode\n",
    "\n",
    "    y: array-like\n",
    "       Optional. Default value is 'None'\n",
    "    \"\"\"\n",
    "    if self.variables is None:\n",
    "      encode_cols = (\n",
    "          X\n",
    "          .select_dtypes(include=[\"object\"])\n",
    "          .columns\n",
    "          .to_list()\n",
    "      )\n",
    "    else:\n",
    "      encode_cols = self.variables\n",
    "\n",
    "    # determine categories for each feature to encode\n",
    "    self.categories_ = dict()\n",
    "    for col in encode_cols:\n",
    "      categories = list(X.loc[:, col].unique())\n",
    "      if self.drop == \"first\":\n",
    "        if len(categories) == 1:\n",
    "          pass\n",
    "        else:\n",
    "          self.categories_[col] = categories[1:]\n",
    "      elif self.drop == \"if_binary\":\n",
    "        if len(categories) == 2:\n",
    "          self.categories_[col] = categories[1:]\n",
    "        else:\n",
    "          self.categories_[col] = categories\n",
    "      else:\n",
    "        self.categories_[col] = categories\n",
    "\n",
    "    return self\n",
    "\n",
    "\n",
    "  def transform(self, X):\n",
    "    \"\"\"\n",
    "    Description:\n",
    "    ------------\n",
    "    Tihs method will transform the given dataset\n",
    "\n",
    "    Parameters:\n",
    "    -----------\n",
    "    X: dataframe\n",
    "       The dataset to trasnform\n",
    "    \"\"\"\n",
    "    temp = X.copy()\n",
    "    for column, categories in self.categories_.items():\n",
    "      curr_categories = X.loc[:, column].unique()\n",
    "      if (self.handle_unknown == \"error\") and (list(np.setdiff1d(curr_categories, categories)) != []):\n",
    "        raise KeyError(f\"Unknown category found in '{column}' during transform.\")\n",
    "      else:\n",
    "        temp = temp.assign(**{\n",
    "            f\"{column}_{category}\": X.loc[:, column].eq(category).astype(int) for category in categories\n",
    "        }).drop(columns=column)\n",
    "\n",
    "    return temp"
   ]
  },
  {
   "cell_type": "markdown",
   "metadata": {
    "id": "C588mmr_acHq"
   },
   "source": [
    "### 4.2 Setting up the Data Preprocessor"
   ]
  },
  {
   "cell_type": "code",
   "execution_count": 9,
   "metadata": {
    "executionInfo": {
     "elapsed": 34,
     "status": "ok",
     "timestamp": 1706516789826,
     "user": {
      "displayName": "Mohammed Misbahullah Sheriff",
      "userId": "04478462769959085958"
     },
     "user_tz": -330
    },
    "id": "sgOd91Naapw2"
   },
   "outputs": [],
   "source": [
    "imputer = SimpleImputer(strategy=\"constant\", fill_value=\"missing\")\n",
    "encoder = CustomOHE(handle_unknown=\"ignore\", variables=cols, drop=None)\n",
    "\n",
    "pipeline = Pipeline(steps=[\n",
    "    (\"imputer\", imputer),\n",
    "    (\"encoder\", encoder)\n",
    "])"
   ]
  },
  {
   "cell_type": "markdown",
   "metadata": {
    "id": "BXI2h5Btaixs"
   },
   "source": [
    "### 4.3 Transforming the Data"
   ]
  },
  {
   "cell_type": "code",
   "execution_count": 10,
   "metadata": {
    "colab": {
     "base_uri": "https://localhost:8080/",
     "height": 244
    },
    "executionInfo": {
     "elapsed": 33,
     "status": "ok",
     "timestamp": 1706516789826,
     "user": {
      "displayName": "Mohammed Misbahullah Sheriff",
      "userId": "04478462769959085958"
     },
     "user_tz": -330
    },
    "id": "BcXLxwb9YGLj",
    "outputId": "7a8dcc5b-84f9-4d51-ff0a-008e9ca3e53c"
   },
   "outputs": [
    {
     "name": "stdout",
     "output_type": "stream",
     "text": [
      "Shape of Preprocessed Data: (195, 12)\n"
     ]
    },
    {
     "data": {
      "text/html": [
       "<div>\n",
       "<style scoped>\n",
       "    .dataframe tbody tr th:only-of-type {\n",
       "        vertical-align: middle;\n",
       "    }\n",
       "\n",
       "    .dataframe tbody tr th {\n",
       "        vertical-align: top;\n",
       "    }\n",
       "\n",
       "    .dataframe thead th {\n",
       "        text-align: right;\n",
       "    }\n",
       "</style>\n",
       "<table border=\"1\" class=\"dataframe\">\n",
       "  <thead>\n",
       "    <tr style=\"text-align: right;\">\n",
       "      <th></th>\n",
       "      <th>tip</th>\n",
       "      <th>size</th>\n",
       "      <th>sex_Female</th>\n",
       "      <th>sex_Male</th>\n",
       "      <th>smoker_No</th>\n",
       "      <th>smoker_Yes</th>\n",
       "      <th>day_Sat</th>\n",
       "      <th>day_Thur</th>\n",
       "      <th>day_Fri</th>\n",
       "      <th>day_Sun</th>\n",
       "      <th>time_Dinner</th>\n",
       "      <th>time_Lunch</th>\n",
       "    </tr>\n",
       "  </thead>\n",
       "  <tbody>\n",
       "    <tr>\n",
       "      <th>66</th>\n",
       "      <td>2.47</td>\n",
       "      <td>2</td>\n",
       "      <td>1</td>\n",
       "      <td>0</td>\n",
       "      <td>1</td>\n",
       "      <td>0</td>\n",
       "      <td>1</td>\n",
       "      <td>0</td>\n",
       "      <td>0</td>\n",
       "      <td>0</td>\n",
       "      <td>1</td>\n",
       "      <td>0</td>\n",
       "    </tr>\n",
       "    <tr>\n",
       "      <th>208</th>\n",
       "      <td>2.03</td>\n",
       "      <td>2</td>\n",
       "      <td>0</td>\n",
       "      <td>1</td>\n",
       "      <td>0</td>\n",
       "      <td>1</td>\n",
       "      <td>1</td>\n",
       "      <td>0</td>\n",
       "      <td>0</td>\n",
       "      <td>0</td>\n",
       "      <td>1</td>\n",
       "      <td>0</td>\n",
       "    </tr>\n",
       "    <tr>\n",
       "      <th>193</th>\n",
       "      <td>2.02</td>\n",
       "      <td>2</td>\n",
       "      <td>0</td>\n",
       "      <td>1</td>\n",
       "      <td>0</td>\n",
       "      <td>1</td>\n",
       "      <td>0</td>\n",
       "      <td>1</td>\n",
       "      <td>0</td>\n",
       "      <td>0</td>\n",
       "      <td>0</td>\n",
       "      <td>1</td>\n",
       "    </tr>\n",
       "    <tr>\n",
       "      <th>77</th>\n",
       "      <td>4.0</td>\n",
       "      <td>4</td>\n",
       "      <td>0</td>\n",
       "      <td>1</td>\n",
       "      <td>1</td>\n",
       "      <td>0</td>\n",
       "      <td>0</td>\n",
       "      <td>1</td>\n",
       "      <td>0</td>\n",
       "      <td>0</td>\n",
       "      <td>0</td>\n",
       "      <td>1</td>\n",
       "    </tr>\n",
       "    <tr>\n",
       "      <th>96</th>\n",
       "      <td>4.0</td>\n",
       "      <td>2</td>\n",
       "      <td>0</td>\n",
       "      <td>1</td>\n",
       "      <td>0</td>\n",
       "      <td>1</td>\n",
       "      <td>0</td>\n",
       "      <td>0</td>\n",
       "      <td>1</td>\n",
       "      <td>0</td>\n",
       "      <td>1</td>\n",
       "      <td>0</td>\n",
       "    </tr>\n",
       "  </tbody>\n",
       "</table>\n",
       "</div>"
      ],
      "text/plain": [
       "      tip size  sex_Female  sex_Male  smoker_No  smoker_Yes  day_Sat  \\\n",
       "66   2.47    2           1         0          1           0        1   \n",
       "208  2.03    2           0         1          0           1        1   \n",
       "193  2.02    2           0         1          0           1        0   \n",
       "77    4.0    4           0         1          1           0        0   \n",
       "96    4.0    2           0         1          0           1        0   \n",
       "\n",
       "     day_Thur  day_Fri  day_Sun  time_Dinner  time_Lunch  \n",
       "66          0        0        0            1           0  \n",
       "208         0        0        0            1           0  \n",
       "193         1        0        0            0           1  \n",
       "77          1        0        0            0           1  \n",
       "96          0        1        0            1           0  "
      ]
     },
     "execution_count": 10,
     "metadata": {},
     "output_type": "execute_result"
    }
   ],
   "source": [
    "X_train_enc = pipeline.fit_transform(X_train)\n",
    "\n",
    "print(\"Shape of Preprocessed Data:\", X_train_enc.shape)\n",
    "X_train_enc.head()"
   ]
  },
  {
   "cell_type": "code",
   "execution_count": 11,
   "metadata": {
    "colab": {
     "base_uri": "https://localhost:8080/",
     "height": 226
    },
    "executionInfo": {
     "elapsed": 29,
     "status": "ok",
     "timestamp": 1706516789826,
     "user": {
      "displayName": "Mohammed Misbahullah Sheriff",
      "userId": "04478462769959085958"
     },
     "user_tz": -330
    },
    "id": "gILD_UKMO2a3",
    "outputId": "bb6e213e-e475-4cfd-be98-e2061d0d720f"
   },
   "outputs": [
    {
     "data": {
      "text/html": [
       "<div>\n",
       "<style scoped>\n",
       "    .dataframe tbody tr th:only-of-type {\n",
       "        vertical-align: middle;\n",
       "    }\n",
       "\n",
       "    .dataframe tbody tr th {\n",
       "        vertical-align: top;\n",
       "    }\n",
       "\n",
       "    .dataframe thead th {\n",
       "        text-align: right;\n",
       "    }\n",
       "</style>\n",
       "<table border=\"1\" class=\"dataframe\">\n",
       "  <thead>\n",
       "    <tr style=\"text-align: right;\">\n",
       "      <th></th>\n",
       "      <th>tip</th>\n",
       "      <th>size</th>\n",
       "      <th>sex_Female</th>\n",
       "      <th>sex_Male</th>\n",
       "      <th>smoker_No</th>\n",
       "      <th>smoker_Yes</th>\n",
       "      <th>day_Sat</th>\n",
       "      <th>day_Thur</th>\n",
       "      <th>day_Fri</th>\n",
       "      <th>day_Sun</th>\n",
       "      <th>time_Dinner</th>\n",
       "      <th>time_Lunch</th>\n",
       "    </tr>\n",
       "  </thead>\n",
       "  <tbody>\n",
       "    <tr>\n",
       "      <th>80</th>\n",
       "      <td>3.0</td>\n",
       "      <td>2</td>\n",
       "      <td>0</td>\n",
       "      <td>1</td>\n",
       "      <td>0</td>\n",
       "      <td>1</td>\n",
       "      <td>0</td>\n",
       "      <td>1</td>\n",
       "      <td>0</td>\n",
       "      <td>0</td>\n",
       "      <td>0</td>\n",
       "      <td>1</td>\n",
       "    </tr>\n",
       "    <tr>\n",
       "      <th>129</th>\n",
       "      <td>2.18</td>\n",
       "      <td>3</td>\n",
       "      <td>0</td>\n",
       "      <td>1</td>\n",
       "      <td>1</td>\n",
       "      <td>0</td>\n",
       "      <td>0</td>\n",
       "      <td>1</td>\n",
       "      <td>0</td>\n",
       "      <td>0</td>\n",
       "      <td>0</td>\n",
       "      <td>1</td>\n",
       "    </tr>\n",
       "    <tr>\n",
       "      <th>3</th>\n",
       "      <td>3.31</td>\n",
       "      <td>2</td>\n",
       "      <td>0</td>\n",
       "      <td>1</td>\n",
       "      <td>1</td>\n",
       "      <td>0</td>\n",
       "      <td>0</td>\n",
       "      <td>0</td>\n",
       "      <td>0</td>\n",
       "      <td>1</td>\n",
       "      <td>1</td>\n",
       "      <td>0</td>\n",
       "    </tr>\n",
       "    <tr>\n",
       "      <th>184</th>\n",
       "      <td>3.0</td>\n",
       "      <td>2</td>\n",
       "      <td>0</td>\n",
       "      <td>1</td>\n",
       "      <td>0</td>\n",
       "      <td>1</td>\n",
       "      <td>0</td>\n",
       "      <td>0</td>\n",
       "      <td>0</td>\n",
       "      <td>1</td>\n",
       "      <td>1</td>\n",
       "      <td>0</td>\n",
       "    </tr>\n",
       "    <tr>\n",
       "      <th>177</th>\n",
       "      <td>2.0</td>\n",
       "      <td>2</td>\n",
       "      <td>0</td>\n",
       "      <td>1</td>\n",
       "      <td>0</td>\n",
       "      <td>1</td>\n",
       "      <td>0</td>\n",
       "      <td>0</td>\n",
       "      <td>0</td>\n",
       "      <td>1</td>\n",
       "      <td>1</td>\n",
       "      <td>0</td>\n",
       "    </tr>\n",
       "  </tbody>\n",
       "</table>\n",
       "</div>"
      ],
      "text/plain": [
       "      tip size  sex_Female  sex_Male  smoker_No  smoker_Yes  day_Sat  \\\n",
       "80    3.0    2           0         1          0           1        0   \n",
       "129  2.18    3           0         1          1           0        0   \n",
       "3    3.31    2           0         1          1           0        0   \n",
       "184   3.0    2           0         1          0           1        0   \n",
       "177   2.0    2           0         1          0           1        0   \n",
       "\n",
       "     day_Thur  day_Fri  day_Sun  time_Dinner  time_Lunch  \n",
       "80          1        0        0            0           1  \n",
       "129         1        0        0            0           1  \n",
       "3           0        0        1            1           0  \n",
       "184         0        0        1            1           0  \n",
       "177         0        0        1            1           0  "
      ]
     },
     "execution_count": 11,
     "metadata": {},
     "output_type": "execute_result"
    }
   ],
   "source": [
    "pipeline.transform(X_test).head()"
   ]
  },
  {
   "cell_type": "markdown",
   "metadata": {
    "id": "0HT4iKNGUtaJ"
   },
   "source": [
    "- Even with the custom implementation, similar results are observed as with the scikit-learn implementation"
   ]
  }
 ],
 "metadata": {
  "colab": {
   "authorship_tag": "ABX9TyNcfkV15W2ahwWXbLMG3ieZ",
   "provenance": []
  },
  "kernelspec": {
   "display_name": "hands_on_ml",
   "language": "python",
   "name": "hands_on_ml"
  },
  "language_info": {
   "codemirror_mode": {
    "name": "ipython",
    "version": 3
   },
   "file_extension": ".py",
   "mimetype": "text/x-python",
   "name": "python",
   "nbconvert_exporter": "python",
   "pygments_lexer": "ipython3",
   "version": "3.11.0"
  }
 },
 "nbformat": 4,
 "nbformat_minor": 4
}
