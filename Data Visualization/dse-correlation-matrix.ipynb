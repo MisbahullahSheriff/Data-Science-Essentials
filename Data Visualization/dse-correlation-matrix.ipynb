{
 "cells": [
  {
   "cell_type": "markdown",
   "metadata": {
    "id": "NSgaMo8BOWuz"
   },
   "source": [
    "# <u>Data Science Essentials</u>\n",
    "\n",
    "## <u>Topic</u>: Correlation Matrix\n",
    "\n",
    "## <u>Category</u>: Data Visualization\n",
    "\n",
    "### <u>Created By</u>: Mohammed Misbahullah Sheriff\n",
    "- [LinkedIn](https://www.linkedin.com/in/mohammed-misbahullah-sheriff/)\n",
    "- [GitHub](https://github.com/MisbahullahSheriff)"
   ]
  },
  {
   "cell_type": "markdown",
   "metadata": {
    "id": "ln3vLXMqOgeF"
   },
   "source": [
    "## Importing Libraries"
   ]
  },
  {
   "cell_type": "code",
   "execution_count": 1,
   "metadata": {
    "executionInfo": {
     "elapsed": 1669,
     "status": "ok",
     "timestamp": 1705387085355,
     "user": {
      "displayName": "Mohammed Misbahullah Sheriff",
      "userId": "04478462769959085958"
     },
     "user_tz": -330
    },
    "id": "NchQ8GwqOM_J"
   },
   "outputs": [],
   "source": [
    "import numpy as np\n",
    "import pandas as pd\n",
    "\n",
    "import matplotlib.pyplot as plt\n",
    "import seaborn as sns\n",
    "\n",
    "import os"
   ]
  },
  {
   "cell_type": "markdown",
   "metadata": {
    "id": "WldNhPyDOsVU"
   },
   "source": [
    "## Getting the Data"
   ]
  },
  {
   "cell_type": "code",
   "execution_count": 2,
   "metadata": {
    "colab": {
     "base_uri": "https://localhost:8080/",
     "height": 419
    },
    "executionInfo": {
     "elapsed": 141,
     "status": "error",
     "timestamp": 1705387087374,
     "user": {
      "displayName": "Mohammed Misbahullah Sheriff",
      "userId": "04478462769959085958"
     },
     "user_tz": -330
    },
    "id": "cbLRFmkuOoBn",
    "outputId": "db62f75f-b436-4716-ffa1-956ff9b90717"
   },
   "outputs": [
    {
     "name": "stdout",
     "output_type": "stream",
     "text": [
      "Data Shape: (6926, 16)\n"
     ]
    },
    {
     "data": {
      "text/html": [
       "<div>\n",
       "<style scoped>\n",
       "    .dataframe tbody tr th:only-of-type {\n",
       "        vertical-align: middle;\n",
       "    }\n",
       "\n",
       "    .dataframe tbody tr th {\n",
       "        vertical-align: top;\n",
       "    }\n",
       "\n",
       "    .dataframe thead th {\n",
       "        text-align: right;\n",
       "    }\n",
       "</style>\n",
       "<table border=\"1\" class=\"dataframe\">\n",
       "  <thead>\n",
       "    <tr style=\"text-align: right;\">\n",
       "      <th></th>\n",
       "      <th>name</th>\n",
       "      <th>company</th>\n",
       "      <th>model</th>\n",
       "      <th>edition</th>\n",
       "      <th>year</th>\n",
       "      <th>owner</th>\n",
       "      <th>fuel</th>\n",
       "      <th>seller_type</th>\n",
       "      <th>transmission</th>\n",
       "      <th>km_driven</th>\n",
       "      <th>mileage_mpg</th>\n",
       "      <th>engine_cc</th>\n",
       "      <th>max_power_bhp</th>\n",
       "      <th>torque_nm</th>\n",
       "      <th>seats</th>\n",
       "      <th>selling_price</th>\n",
       "    </tr>\n",
       "  </thead>\n",
       "  <tbody>\n",
       "    <tr>\n",
       "      <th>0</th>\n",
       "      <td>Maruti Swift Dzire VDI</td>\n",
       "      <td>Maruti</td>\n",
       "      <td>Swift</td>\n",
       "      <td>Dzire VDI</td>\n",
       "      <td>2014</td>\n",
       "      <td>First</td>\n",
       "      <td>Diesel</td>\n",
       "      <td>Individual</td>\n",
       "      <td>Manual</td>\n",
       "      <td>145500</td>\n",
       "      <td>55.00</td>\n",
       "      <td>1248.0</td>\n",
       "      <td>74.00</td>\n",
       "      <td>190.000000</td>\n",
       "      <td>5.0</td>\n",
       "      <td>450000</td>\n",
       "    </tr>\n",
       "    <tr>\n",
       "      <th>1</th>\n",
       "      <td>Skoda Rapid 1.5 TDI Ambition</td>\n",
       "      <td>Skoda</td>\n",
       "      <td>Rapid</td>\n",
       "      <td>1.5 TDI Ambition</td>\n",
       "      <td>2014</td>\n",
       "      <td>Second</td>\n",
       "      <td>Diesel</td>\n",
       "      <td>Individual</td>\n",
       "      <td>Manual</td>\n",
       "      <td>120000</td>\n",
       "      <td>49.70</td>\n",
       "      <td>1498.0</td>\n",
       "      <td>103.52</td>\n",
       "      <td>250.000000</td>\n",
       "      <td>5.0</td>\n",
       "      <td>370000</td>\n",
       "    </tr>\n",
       "    <tr>\n",
       "      <th>2</th>\n",
       "      <td>Honda City 2017-2020 EXi</td>\n",
       "      <td>Honda</td>\n",
       "      <td>City</td>\n",
       "      <td>2017-2020 EXi</td>\n",
       "      <td>2006</td>\n",
       "      <td>Third</td>\n",
       "      <td>Petrol</td>\n",
       "      <td>Individual</td>\n",
       "      <td>Manual</td>\n",
       "      <td>140000</td>\n",
       "      <td>41.60</td>\n",
       "      <td>1497.0</td>\n",
       "      <td>78.00</td>\n",
       "      <td>124.544455</td>\n",
       "      <td>5.0</td>\n",
       "      <td>158000</td>\n",
       "    </tr>\n",
       "    <tr>\n",
       "      <th>3</th>\n",
       "      <td>Hyundai i20 Sportz Diesel</td>\n",
       "      <td>Hyundai</td>\n",
       "      <td>i20</td>\n",
       "      <td>Sportz Diesel</td>\n",
       "      <td>2010</td>\n",
       "      <td>First</td>\n",
       "      <td>Diesel</td>\n",
       "      <td>Individual</td>\n",
       "      <td>Manual</td>\n",
       "      <td>127000</td>\n",
       "      <td>54.06</td>\n",
       "      <td>1396.0</td>\n",
       "      <td>90.00</td>\n",
       "      <td>219.668960</td>\n",
       "      <td>5.0</td>\n",
       "      <td>225000</td>\n",
       "    </tr>\n",
       "    <tr>\n",
       "      <th>4</th>\n",
       "      <td>Maruti Swift VXI BSIII</td>\n",
       "      <td>Maruti</td>\n",
       "      <td>Swift</td>\n",
       "      <td>VXI BSIII</td>\n",
       "      <td>2007</td>\n",
       "      <td>First</td>\n",
       "      <td>Petrol</td>\n",
       "      <td>Individual</td>\n",
       "      <td>Manual</td>\n",
       "      <td>120000</td>\n",
       "      <td>37.84</td>\n",
       "      <td>1298.0</td>\n",
       "      <td>88.20</td>\n",
       "      <td>112.776475</td>\n",
       "      <td>5.0</td>\n",
       "      <td>130000</td>\n",
       "    </tr>\n",
       "  </tbody>\n",
       "</table>\n",
       "</div>"
      ],
      "text/plain": [
       "                           name  company  model           edition  year  \\\n",
       "0        Maruti Swift Dzire VDI   Maruti  Swift         Dzire VDI  2014   \n",
       "1  Skoda Rapid 1.5 TDI Ambition    Skoda  Rapid  1.5 TDI Ambition  2014   \n",
       "2      Honda City 2017-2020 EXi    Honda   City     2017-2020 EXi  2006   \n",
       "3     Hyundai i20 Sportz Diesel  Hyundai    i20     Sportz Diesel  2010   \n",
       "4        Maruti Swift VXI BSIII   Maruti  Swift         VXI BSIII  2007   \n",
       "\n",
       "    owner    fuel seller_type transmission  km_driven  mileage_mpg  engine_cc  \\\n",
       "0   First  Diesel  Individual       Manual     145500        55.00     1248.0   \n",
       "1  Second  Diesel  Individual       Manual     120000        49.70     1498.0   \n",
       "2   Third  Petrol  Individual       Manual     140000        41.60     1497.0   \n",
       "3   First  Diesel  Individual       Manual     127000        54.06     1396.0   \n",
       "4   First  Petrol  Individual       Manual     120000        37.84     1298.0   \n",
       "\n",
       "   max_power_bhp   torque_nm  seats  selling_price  \n",
       "0          74.00  190.000000    5.0         450000  \n",
       "1         103.52  250.000000    5.0         370000  \n",
       "2          78.00  124.544455    5.0         158000  \n",
       "3          90.00  219.668960    5.0         225000  \n",
       "4          88.20  112.776475    5.0         130000  "
      ]
     },
     "execution_count": 2,
     "metadata": {},
     "output_type": "execute_result"
    }
   ],
   "source": [
    "file_dir = \"C:\\Python Programs\\datasets\"\n",
    "file_name = \"car-details.csv\"\n",
    "file_path = os.path.join(file_dir, file_name)\n",
    "\n",
    "df = pd.read_csv(file_path)\n",
    "print(\"Data Shape:\", df.shape)\n",
    "df.head()"
   ]
  },
  {
   "cell_type": "markdown",
   "metadata": {
    "id": "0MQmN8UeO06y"
   },
   "source": [
    "## Demo"
   ]
  },
  {
   "cell_type": "code",
   "execution_count": 3,
   "metadata": {
    "colab": {
     "base_uri": "https://localhost:8080/",
     "height": 300
    },
    "executionInfo": {
     "elapsed": 286,
     "status": "ok",
     "timestamp": 1705374378861,
     "user": {
      "displayName": "Mohammed Misbahullah Sheriff",
      "userId": "04478462769959085958"
     },
     "user_tz": -330
    },
    "id": "KXT3DEZ0OxCc",
    "outputId": "aaa95393-b1a2-4472-b63a-8dd7bf72362a"
   },
   "outputs": [
    {
     "data": {
      "text/html": [
       "<div>\n",
       "<style scoped>\n",
       "    .dataframe tbody tr th:only-of-type {\n",
       "        vertical-align: middle;\n",
       "    }\n",
       "\n",
       "    .dataframe tbody tr th {\n",
       "        vertical-align: top;\n",
       "    }\n",
       "\n",
       "    .dataframe thead th {\n",
       "        text-align: right;\n",
       "    }\n",
       "</style>\n",
       "<table border=\"1\" class=\"dataframe\">\n",
       "  <thead>\n",
       "    <tr style=\"text-align: right;\">\n",
       "      <th></th>\n",
       "      <th>year</th>\n",
       "      <th>km_driven</th>\n",
       "      <th>mileage_mpg</th>\n",
       "      <th>engine_cc</th>\n",
       "      <th>max_power_bhp</th>\n",
       "      <th>torque_nm</th>\n",
       "      <th>seats</th>\n",
       "      <th>selling_price</th>\n",
       "    </tr>\n",
       "  </thead>\n",
       "  <tbody>\n",
       "    <tr>\n",
       "      <th>year</th>\n",
       "      <td>1.000000</td>\n",
       "      <td>-0.377003</td>\n",
       "      <td>0.324193</td>\n",
       "      <td>-0.019074</td>\n",
       "      <td>0.159889</td>\n",
       "      <td>0.053617</td>\n",
       "      <td>0.023632</td>\n",
       "      <td>0.433076</td>\n",
       "    </tr>\n",
       "    <tr>\n",
       "      <th>km_driven</th>\n",
       "      <td>-0.377003</td>\n",
       "      <td>1.000000</td>\n",
       "      <td>-0.174163</td>\n",
       "      <td>0.253339</td>\n",
       "      <td>0.041770</td>\n",
       "      <td>0.128881</td>\n",
       "      <td>0.207957</td>\n",
       "      <td>-0.165620</td>\n",
       "    </tr>\n",
       "    <tr>\n",
       "      <th>mileage_mpg</th>\n",
       "      <td>0.324193</td>\n",
       "      <td>-0.174163</td>\n",
       "      <td>1.000000</td>\n",
       "      <td>-0.466693</td>\n",
       "      <td>-0.282228</td>\n",
       "      <td>-0.160201</td>\n",
       "      <td>-0.380941</td>\n",
       "      <td>-0.067668</td>\n",
       "    </tr>\n",
       "    <tr>\n",
       "      <th>engine_cc</th>\n",
       "      <td>-0.019074</td>\n",
       "      <td>0.253339</td>\n",
       "      <td>-0.466693</td>\n",
       "      <td>1.000000</td>\n",
       "      <td>0.683506</td>\n",
       "      <td>0.607003</td>\n",
       "      <td>0.657798</td>\n",
       "      <td>0.442857</td>\n",
       "    </tr>\n",
       "    <tr>\n",
       "      <th>max_power_bhp</th>\n",
       "      <td>0.159889</td>\n",
       "      <td>0.041770</td>\n",
       "      <td>-0.282228</td>\n",
       "      <td>0.683506</td>\n",
       "      <td>1.000000</td>\n",
       "      <td>0.669820</td>\n",
       "      <td>0.259028</td>\n",
       "      <td>0.692323</td>\n",
       "    </tr>\n",
       "    <tr>\n",
       "      <th>torque_nm</th>\n",
       "      <td>0.053617</td>\n",
       "      <td>0.128881</td>\n",
       "      <td>-0.160201</td>\n",
       "      <td>0.607003</td>\n",
       "      <td>0.669820</td>\n",
       "      <td>1.000000</td>\n",
       "      <td>0.325996</td>\n",
       "      <td>0.473283</td>\n",
       "    </tr>\n",
       "    <tr>\n",
       "      <th>seats</th>\n",
       "      <td>0.023632</td>\n",
       "      <td>0.207957</td>\n",
       "      <td>-0.380941</td>\n",
       "      <td>0.657798</td>\n",
       "      <td>0.259028</td>\n",
       "      <td>0.325996</td>\n",
       "      <td>1.000000</td>\n",
       "      <td>0.158111</td>\n",
       "    </tr>\n",
       "    <tr>\n",
       "      <th>selling_price</th>\n",
       "      <td>0.433076</td>\n",
       "      <td>-0.165620</td>\n",
       "      <td>-0.067668</td>\n",
       "      <td>0.442857</td>\n",
       "      <td>0.692323</td>\n",
       "      <td>0.473283</td>\n",
       "      <td>0.158111</td>\n",
       "      <td>1.000000</td>\n",
       "    </tr>\n",
       "  </tbody>\n",
       "</table>\n",
       "</div>"
      ],
      "text/plain": [
       "                   year  km_driven  mileage_mpg  engine_cc  max_power_bhp  \\\n",
       "year           1.000000  -0.377003     0.324193  -0.019074       0.159889   \n",
       "km_driven     -0.377003   1.000000    -0.174163   0.253339       0.041770   \n",
       "mileage_mpg    0.324193  -0.174163     1.000000  -0.466693      -0.282228   \n",
       "engine_cc     -0.019074   0.253339    -0.466693   1.000000       0.683506   \n",
       "max_power_bhp  0.159889   0.041770    -0.282228   0.683506       1.000000   \n",
       "torque_nm      0.053617   0.128881    -0.160201   0.607003       0.669820   \n",
       "seats          0.023632   0.207957    -0.380941   0.657798       0.259028   \n",
       "selling_price  0.433076  -0.165620    -0.067668   0.442857       0.692323   \n",
       "\n",
       "               torque_nm     seats  selling_price  \n",
       "year            0.053617  0.023632       0.433076  \n",
       "km_driven       0.128881  0.207957      -0.165620  \n",
       "mileage_mpg    -0.160201 -0.380941      -0.067668  \n",
       "engine_cc       0.607003  0.657798       0.442857  \n",
       "max_power_bhp   0.669820  0.259028       0.692323  \n",
       "torque_nm       1.000000  0.325996       0.473283  \n",
       "seats           0.325996  1.000000       0.158111  \n",
       "selling_price   0.473283  0.158111       1.000000  "
      ]
     },
     "execution_count": 3,
     "metadata": {},
     "output_type": "execute_result"
    }
   ],
   "source": [
    "corr_mat = df.corr()\n",
    "corr_mat"
   ]
  },
  {
   "cell_type": "code",
   "execution_count": 4,
   "metadata": {
    "colab": {
     "base_uri": "https://localhost:8080/",
     "height": 698
    },
    "executionInfo": {
     "elapsed": 1016,
     "status": "ok",
     "timestamp": 1705375096682,
     "user": {
      "displayName": "Mohammed Misbahullah Sheriff",
      "userId": "04478462769959085958"
     },
     "user_tz": -330
    },
    "id": "kXvihxTXO53_",
    "outputId": "c6f89624-6328-4d06-a551-0a68f3c6f2a6"
   },
   "outputs": [
    {
     "data": {
      "image/png": "[encoded data removed]",
      "text/plain": [
       "<Figure size 800x800 with 2 Axes>"
      ]
     },
     "metadata": {},
     "output_type": "display_data"
    }
   ],
   "source": [
    "fig, ax = plt.subplots(figsize=(8, 8))\n",
    "\n",
    "mask = np.zeros_like(corr_mat, dtype=bool)\n",
    "mask[np.triu_indices_from(mask)] = True\n",
    "\n",
    "hm = sns.heatmap(\n",
    "    data=corr_mat,\n",
    "    vmin=-1,\n",
    "    vmax=1,\n",
    "    cmap=\"RdBu\",\n",
    "    center=0,\n",
    "    annot=True,\n",
    "    fmt=\".2f\",\n",
    "    linewidths=1.5,\n",
    "    linecolor=\"white\",\n",
    "    cbar=True,\n",
    "    square=True,\n",
    "    mask=mask,\n",
    "    ax=ax\n",
    ")\n",
    "\n",
    "hm.set_xticklabels(hm.get_xticklabels(),\n",
    "                   rotation=45,\n",
    "                   ha=\"right\")\n",
    "\n",
    "hm.set_title(\"Correlation Matrix Heatmap\")\n",
    "\n",
    "plt.show()"
   ]
  },
  {
   "cell_type": "markdown",
   "metadata": {
    "id": "syXCtQXhR4T5"
   },
   "source": [
    "### Observations:\n",
    "\n",
    "- The target variable `selling_price` is highly correlated to:\n",
    "  - year\n",
    "  - engine_cc\n",
    "  - max_power_bhp\n",
    "  - torque_nm\n",
    "- There's quite a lot of multi-collinearity in the dataset\n",
    "- The feature `engine_cc` is highly correlated to:\n",
    "  - seats\n",
    "  - torque_nm\n",
    "  - max_power_bhp\n",
    "- The feature `mileage_mpg` has appreciable negative correlation with:\n",
    "  - seats\n",
    "  - engine_cc\n",
    "- Thus, visualization correlation matrix as a heatmap makes it very convenient to analyze and detect correlations among the variables in the dataset\n",
    "- By default, `pandas` calculates the `pearson correlation coefficient`\n",
    "  - It can be made to calculate other correlation coefficients by setting the parameter `method` of the `corr` method\n",
    "- Since the correlation matrix is symmetric in nature, the `mask` parameter of the `heatmap` function is used to only display the lower triangular portion (in this example)"
   ]
  }
 ],
 "metadata": {
  "colab": {
   "authorship_tag": "ABX9TyO0a1gHCjHSCVsBUtpYjBXU",
   "provenance": []
  },
  "kernelspec": {
   "display_name": "Python 3 (ipykernel)",
   "language": "python",
   "name": "python3"
  },
  "language_info": {
   "codemirror_mode": {
    "name": "ipython",
    "version": 3
   },
   "file_extension": ".py",
   "mimetype": "text/x-python",
   "name": "python",
   "nbconvert_exporter": "python",
   "pygments_lexer": "ipython3",
   "version": "3.7.4"
  }
 },
 "nbformat": 4,
 "nbformat_minor": 1
}
