{
 "cells": [
  {
   "cell_type": "markdown",
   "metadata": {
    "id": "R3PdPz6z07hm"
   },
   "source": [
    "# <u>Data Science Essentials</u>\n",
    "\n",
    "## <u>Topic</u>: Learning Curves\n",
    "\n",
    "## <u>Category</u>: Model Evaluation\n",
    "\n",
    "### <u>Created By</u>: Mohammed Misbahullah Sheriff\n",
    "- [LinkedIn](https://www.linkedin.com/in/mohammed-misbahullah-sheriff/)\n",
    "- [GitHub](https://github.com/MisbahullahSheriff)"
   ]
  },
  {
   "cell_type": "markdown",
   "metadata": {
    "id": "ZAd8rRSy2b59"
   },
   "source": [
    "## Importing Libraries"
   ]
  },
  {
   "cell_type": "code",
   "execution_count": null,
   "metadata": {
    "id": "JJ0tSdwo02r6"
   },
   "outputs": [],
   "source": [
    "import numpy as np\n",
    "import pandas as pd\n",
    "\n",
    "import matplotlib.pyplot as plt\n",
    "from matplotlib.gridspec import GridSpec\n",
    "\n",
    "import sklearn\n",
    "\n",
    "from sklearn.preprocessing import (\n",
    "    StandardScaler,\n",
    "    OneHotEncoder,\n",
    ")\n",
    "\n",
    "from sklearn.impute import SimpleImputer\n",
    "\n",
    "from sklearn.pipeline import Pipeline\n",
    "\n",
    "from sklearn.compose import ColumnTransformer\n",
    "\n",
    "from sklearn.ensemble import RandomForestRegressor\n",
    "\n",
    "from sklearn.model_selection import learning_curve"
   ]
  },
  {
   "cell_type": "markdown",
   "metadata": {
    "id": "bD0baSr32hV_"
   },
   "source": [
    "## Getting the Data"
   ]
  },
  {
   "cell_type": "code",
   "execution_count": null,
   "metadata": {
    "colab": {
     "base_uri": "https://localhost:8080/",
     "height": 521
    },
    "executionInfo": {
     "elapsed": 318,
     "status": "ok",
     "timestamp": 1705300882643,
     "user": {
      "displayName": "Mohammed Misbahullah Sheriff",
      "userId": "04478462769959085958"
     },
     "user_tz": -330
    },
    "id": "jliZx2yz1aOf",
    "outputId": "69a2ef95-e72e-4fa3-f5e0-2b0b966025ee"
   },
   "outputs": [
    {
     "name": "stdout",
     "output_type": "stream",
     "text": [
      "Data Shape: (6926, 16)\n"
     ]
    },
    {
     "data": {
      "text/html": [
       "\n",
       "  <div id=\"df-183f295e-e997-4c86-b941-78699b6dd2a1\" class=\"colab-df-container\">\n",
       "    <div>\n",
       "<style scoped>\n",
       "    .dataframe tbody tr th:only-of-type {\n",
       "        vertical-align: middle;\n",
       "    }\n",
       "\n",
       "    .dataframe tbody tr th {\n",
       "        vertical-align: top;\n",
       "    }\n",
       "\n",
       "    .dataframe thead th {\n",
       "        text-align: right;\n",
       "    }\n",
       "</style>\n",
       "<table border=\"1\" class=\"dataframe\">\n",
       "  <thead>\n",
       "    <tr style=\"text-align: right;\">\n",
       "      <th></th>\n",
       "      <th>name</th>\n",
       "      <th>company</th>\n",
       "      <th>model</th>\n",
       "      <th>edition</th>\n",
       "      <th>year</th>\n",
       "      <th>owner</th>\n",
       "      <th>fuel</th>\n",
       "      <th>seller_type</th>\n",
       "      <th>transmission</th>\n",
       "      <th>km_driven</th>\n",
       "      <th>mileage_mpg</th>\n",
       "      <th>engine_cc</th>\n",
       "      <th>max_power_bhp</th>\n",
       "      <th>torque_nm</th>\n",
       "      <th>seats</th>\n",
       "      <th>selling_price</th>\n",
       "    </tr>\n",
       "  </thead>\n",
       "  <tbody>\n",
       "    <tr>\n",
       "      <th>0</th>\n",
       "      <td>Maruti Swift Dzire VDI</td>\n",
       "      <td>Maruti</td>\n",
       "      <td>Swift</td>\n",
       "      <td>Dzire VDI</td>\n",
       "      <td>2014</td>\n",
       "      <td>First</td>\n",
       "      <td>Diesel</td>\n",
       "      <td>Individual</td>\n",
       "      <td>Manual</td>\n",
       "      <td>145500</td>\n",
       "      <td>55.00</td>\n",
       "      <td>1248.0</td>\n",
       "      <td>74.00</td>\n",
       "      <td>190.000000</td>\n",
       "      <td>5.0</td>\n",
       "      <td>450000</td>\n",
       "    </tr>\n",
       "    <tr>\n",
       "      <th>1</th>\n",
       "      <td>Skoda Rapid 1.5 TDI Ambition</td>\n",
       "      <td>Skoda</td>\n",
       "      <td>Rapid</td>\n",
       "      <td>1.5 TDI Ambition</td>\n",
       "      <td>2014</td>\n",
       "      <td>Second</td>\n",
       "      <td>Diesel</td>\n",
       "      <td>Individual</td>\n",
       "      <td>Manual</td>\n",
       "      <td>120000</td>\n",
       "      <td>49.70</td>\n",
       "      <td>1498.0</td>\n",
       "      <td>103.52</td>\n",
       "      <td>250.000000</td>\n",
       "      <td>5.0</td>\n",
       "      <td>370000</td>\n",
       "    </tr>\n",
       "    <tr>\n",
       "      <th>2</th>\n",
       "      <td>Honda City 2017-2020 EXi</td>\n",
       "      <td>Honda</td>\n",
       "      <td>City</td>\n",
       "      <td>2017-2020 EXi</td>\n",
       "      <td>2006</td>\n",
       "      <td>Third</td>\n",
       "      <td>Petrol</td>\n",
       "      <td>Individual</td>\n",
       "      <td>Manual</td>\n",
       "      <td>140000</td>\n",
       "      <td>41.60</td>\n",
       "      <td>1497.0</td>\n",
       "      <td>78.00</td>\n",
       "      <td>124.544455</td>\n",
       "      <td>5.0</td>\n",
       "      <td>158000</td>\n",
       "    </tr>\n",
       "    <tr>\n",
       "      <th>3</th>\n",
       "      <td>Hyundai i20 Sportz Diesel</td>\n",
       "      <td>Hyundai</td>\n",
       "      <td>i20</td>\n",
       "      <td>Sportz Diesel</td>\n",
       "      <td>2010</td>\n",
       "      <td>First</td>\n",
       "      <td>Diesel</td>\n",
       "      <td>Individual</td>\n",
       "      <td>Manual</td>\n",
       "      <td>127000</td>\n",
       "      <td>54.06</td>\n",
       "      <td>1396.0</td>\n",
       "      <td>90.00</td>\n",
       "      <td>219.668960</td>\n",
       "      <td>5.0</td>\n",
       "      <td>225000</td>\n",
       "    </tr>\n",
       "    <tr>\n",
       "      <th>4</th>\n",
       "      <td>Maruti Swift VXI BSIII</td>\n",
       "      <td>Maruti</td>\n",
       "      <td>Swift</td>\n",
       "      <td>VXI BSIII</td>\n",
       "      <td>2007</td>\n",
       "      <td>First</td>\n",
       "      <td>Petrol</td>\n",
       "      <td>Individual</td>\n",
       "      <td>Manual</td>\n",
       "      <td>120000</td>\n",
       "      <td>37.84</td>\n",
       "      <td>1298.0</td>\n",
       "      <td>88.20</td>\n",
       "      <td>112.776475</td>\n",
       "      <td>5.0</td>\n",
       "      <td>130000</td>\n",
       "    </tr>\n",
       "  </tbody>\n",
       "</table>\n",
       "</div>\n",
       "    <div class=\"colab-df-buttons\">\n",
       "\n",
       "  <div class=\"colab-df-container\">\n",
       "    <button class=\"colab-df-convert\" onclick=\"convertToInteractive('df-183f295e-e997-4c86-b941-78699b6dd2a1')\"\n",
       "            title=\"Convert this dataframe to an interactive table.\"\n",
       "            style=\"display:none;\">\n",
       "\n",
       "  <svg xmlns=\"http://www.w3.org/2000/svg\" height=\"24px\" viewBox=\"0 -960 960 960\">\n",
       "    <path d=\"M120-120v-720h720v720H120Zm60-500h600v-160H180v160Zm220 220h160v-160H400v160Zm0 220h160v-160H400v160ZM180-400h160v-160H180v160Zm440 0h160v-160H620v160ZM180-180h160v-160H180v160Zm440 0h160v-160H620v160Z\"/>\n",
       "  </svg>\n",
       "    </button>\n",
       "\n",
       "  <style>\n",
       "    .colab-df-container {\n",
       "      display:flex;\n",
       "      gap: 12px;\n",
       "    }\n",
       "\n",
       "    .colab-df-convert {\n",
       "      background-color: #E8F0FE;\n",
       "      border: none;\n",
       "      border-radius: 50%;\n",
       "      cursor: pointer;\n",
       "      display: none;\n",
       "      fill: #1967D2;\n",
       "      height: 32px;\n",
       "      padding: 0 0 0 0;\n",
       "      width: 32px;\n",
       "    }\n",
       "\n",
       "    .colab-df-convert:hover {\n",
       "      background-color: #E2EBFA;\n",
       "      box-shadow: 0px 1px 2px rgba(60, 64, 67, 0.3), 0px 1px 3px 1px rgba(60, 64, 67, 0.15);\n",
       "      fill: #174EA6;\n",
       "    }\n",
       "\n",
       "    .colab-df-buttons div {\n",
       "      margin-bottom: 4px;\n",
       "    }\n",
       "\n",
       "    [theme=dark] .colab-df-convert {\n",
       "      background-color: #3B4455;\n",
       "      fill: #D2E3FC;\n",
       "    }\n",
       "\n",
       "    [theme=dark] .colab-df-convert:hover {\n",
       "      background-color: #434B5C;\n",
       "      box-shadow: 0px 1px 3px 1px rgba(0, 0, 0, 0.15);\n",
       "      filter: drop-shadow(0px 1px 2px rgba(0, 0, 0, 0.3));\n",
       "      fill: #FFFFFF;\n",
       "    }\n",
       "  </style>\n",
       "\n",
       "    <script>\n",
       "      const buttonEl =\n",
       "        document.querySelector('#df-183f295e-e997-4c86-b941-78699b6dd2a1 button.colab-df-convert');\n",
       "      buttonEl.style.display =\n",
       "        google.colab.kernel.accessAllowed ? 'block' : 'none';\n",
       "\n",
       "      async function convertToInteractive(key) {\n",
       "        const element = document.querySelector('#df-183f295e-e997-4c86-b941-78699b6dd2a1');\n",
       "        const dataTable =\n",
       "          await google.colab.kernel.invokeFunction('convertToInteractive',\n",
       "                                                    [key], {});\n",
       "        if (!dataTable) return;\n",
       "\n",
       "        const docLinkHtml = 'Like what you see? Visit the ' +\n",
       "          '<a target=\"_blank\" href=https://colab.research.google.com/notebooks/data_table.ipynb>data table notebook</a>'\n",
       "          + ' to learn more about interactive tables.';\n",
       "        element.innerHTML = '';\n",
       "        dataTable['output_type'] = 'display_data';\n",
       "        await google.colab.output.renderOutput(dataTable, element);\n",
       "        const docLink = document.createElement('div');\n",
       "        docLink.innerHTML = docLinkHtml;\n",
       "        element.appendChild(docLink);\n",
       "      }\n",
       "    </script>\n",
       "  </div>\n",
       "\n",
       "\n",
       "<div id=\"df-6f5f4b3a-b723-4279-88c2-9bf2d8deb9bb\">\n",
       "  <button class=\"colab-df-quickchart\" onclick=\"quickchart('df-6f5f4b3a-b723-4279-88c2-9bf2d8deb9bb')\"\n",
       "            title=\"Suggest charts\"\n",
       "            style=\"display:none;\">\n",
       "\n",
       "<svg xmlns=\"http://www.w3.org/2000/svg\" height=\"24px\"viewBox=\"0 0 24 24\"\n",
       "     width=\"24px\">\n",
       "    <g>\n",
       "        <path d=\"M19 3H5c-1.1 0-2 .9-2 2v14c0 1.1.9 2 2 2h14c1.1 0 2-.9 2-2V5c0-1.1-.9-2-2-2zM9 17H7v-7h2v7zm4 0h-2V7h2v10zm4 0h-2v-4h2v4z\"/>\n",
       "    </g>\n",
       "</svg>\n",
       "  </button>\n",
       "\n",
       "<style>\n",
       "  .colab-df-quickchart {\n",
       "      --bg-color: #E8F0FE;\n",
       "      --fill-color: #1967D2;\n",
       "      --hover-bg-color: #E2EBFA;\n",
       "      --hover-fill-color: #174EA6;\n",
       "      --disabled-fill-color: #AAA;\n",
       "      --disabled-bg-color: #DDD;\n",
       "  }\n",
       "\n",
       "  [theme=dark] .colab-df-quickchart {\n",
       "      --bg-color: #3B4455;\n",
       "      --fill-color: #D2E3FC;\n",
       "      --hover-bg-color: #434B5C;\n",
       "      --hover-fill-color: #FFFFFF;\n",
       "      --disabled-bg-color: #3B4455;\n",
       "      --disabled-fill-color: #666;\n",
       "  }\n",
       "\n",
       "  .colab-df-quickchart {\n",
       "    background-color: var(--bg-color);\n",
       "    border: none;\n",
       "    border-radius: 50%;\n",
       "    cursor: pointer;\n",
       "    display: none;\n",
       "    fill: var(--fill-color);\n",
       "    height: 32px;\n",
       "    padding: 0;\n",
       "    width: 32px;\n",
       "  }\n",
       "\n",
       "  .colab-df-quickchart:hover {\n",
       "    background-color: var(--hover-bg-color);\n",
       "    box-shadow: 0 1px 2px rgba(60, 64, 67, 0.3), 0 1px 3px 1px rgba(60, 64, 67, 0.15);\n",
       "    fill: var(--button-hover-fill-color);\n",
       "  }\n",
       "\n",
       "  .colab-df-quickchart-complete:disabled,\n",
       "  .colab-df-quickchart-complete:disabled:hover {\n",
       "    background-color: var(--disabled-bg-color);\n",
       "    fill: var(--disabled-fill-color);\n",
       "    box-shadow: none;\n",
       "  }\n",
       "\n",
       "  .colab-df-spinner {\n",
       "    border: 2px solid var(--fill-color);\n",
       "    border-color: transparent;\n",
       "    border-bottom-color: var(--fill-color);\n",
       "    animation:\n",
       "      spin 1s steps(1) infinite;\n",
       "  }\n",
       "\n",
       "  @keyframes spin {\n",
       "    0% {\n",
       "      border-color: transparent;\n",
       "      border-bottom-color: var(--fill-color);\n",
       "      border-left-color: var(--fill-color);\n",
       "    }\n",
       "    20% {\n",
       "      border-color: transparent;\n",
       "      border-left-color: var(--fill-color);\n",
       "      border-top-color: var(--fill-color);\n",
       "    }\n",
       "    30% {\n",
       "      border-color: transparent;\n",
       "      border-left-color: var(--fill-color);\n",
       "      border-top-color: var(--fill-color);\n",
       "      border-right-color: var(--fill-color);\n",
       "    }\n",
       "    40% {\n",
       "      border-color: transparent;\n",
       "      border-right-color: var(--fill-color);\n",
       "      border-top-color: var(--fill-color);\n",
       "    }\n",
       "    60% {\n",
       "      border-color: transparent;\n",
       "      border-right-color: var(--fill-color);\n",
       "    }\n",
       "    80% {\n",
       "      border-color: transparent;\n",
       "      border-right-color: var(--fill-color);\n",
       "      border-bottom-color: var(--fill-color);\n",
       "    }\n",
       "    90% {\n",
       "      border-color: transparent;\n",
       "      border-bottom-color: var(--fill-color);\n",
       "    }\n",
       "  }\n",
       "</style>\n",
       "\n",
       "  <script>\n",
       "    async function quickchart(key) {\n",
       "      const quickchartButtonEl =\n",
       "        document.querySelector('#' + key + ' button');\n",
       "      quickchartButtonEl.disabled = true;  // To prevent multiple clicks.\n",
       "      quickchartButtonEl.classList.add('colab-df-spinner');\n",
       "      try {\n",
       "        const charts = await google.colab.kernel.invokeFunction(\n",
       "            'suggestCharts', [key], {});\n",
       "      } catch (error) {\n",
       "        console.error('Error during call to suggestCharts:', error);\n",
       "      }\n",
       "      quickchartButtonEl.classList.remove('colab-df-spinner');\n",
       "      quickchartButtonEl.classList.add('colab-df-quickchart-complete');\n",
       "    }\n",
       "    (() => {\n",
       "      let quickchartButtonEl =\n",
       "        document.querySelector('#df-6f5f4b3a-b723-4279-88c2-9bf2d8deb9bb button');\n",
       "      quickchartButtonEl.style.display =\n",
       "        google.colab.kernel.accessAllowed ? 'block' : 'none';\n",
       "    })();\n",
       "  </script>\n",
       "</div>\n",
       "\n",
       "    </div>\n",
       "  </div>\n"
      ],
      "text/plain": [
       "                           name  company  model           edition  year  \\\n",
       "0        Maruti Swift Dzire VDI   Maruti  Swift         Dzire VDI  2014   \n",
       "1  Skoda Rapid 1.5 TDI Ambition    Skoda  Rapid  1.5 TDI Ambition  2014   \n",
       "2      Honda City 2017-2020 EXi    Honda   City     2017-2020 EXi  2006   \n",
       "3     Hyundai i20 Sportz Diesel  Hyundai    i20     Sportz Diesel  2010   \n",
       "4        Maruti Swift VXI BSIII   Maruti  Swift         VXI BSIII  2007   \n",
       "\n",
       "    owner    fuel seller_type transmission  km_driven  mileage_mpg  engine_cc  \\\n",
       "0   First  Diesel  Individual       Manual     145500        55.00     1248.0   \n",
       "1  Second  Diesel  Individual       Manual     120000        49.70     1498.0   \n",
       "2   Third  Petrol  Individual       Manual     140000        41.60     1497.0   \n",
       "3   First  Diesel  Individual       Manual     127000        54.06     1396.0   \n",
       "4   First  Petrol  Individual       Manual     120000        37.84     1298.0   \n",
       "\n",
       "   max_power_bhp   torque_nm  seats  selling_price  \n",
       "0          74.00  190.000000    5.0         450000  \n",
       "1         103.52  250.000000    5.0         370000  \n",
       "2          78.00  124.544455    5.0         158000  \n",
       "3          90.00  219.668960    5.0         225000  \n",
       "4          88.20  112.776475    5.0         130000  "
      ]
     },
     "execution_count": 3,
     "metadata": {},
     "output_type": "execute_result"
    }
   ],
   "source": [
    "path = \"/content/car-details.csv\"\n",
    "\n",
    "df = pd.read_csv(path)\n",
    "print(\"Data Shape:\", df.shape)\n",
    "df.head()"
   ]
  },
  {
   "cell_type": "code",
   "execution_count": null,
   "metadata": {
    "colab": {
     "base_uri": "https://localhost:8080/"
    },
    "executionInfo": {
     "elapsed": 9,
     "status": "ok",
     "timestamp": 1705300929234,
     "user": {
      "displayName": "Mohammed Misbahullah Sheriff",
      "userId": "04478462769959085958"
     },
     "user_tz": -330
    },
    "id": "xmD4Eg0D2nLD",
    "outputId": "efdcd77f-f515-4a6d-aea8-7431db03b597"
   },
   "outputs": [
    {
     "name": "stdout",
     "output_type": "stream",
     "text": [
      "(6926, 13) (6926,)\n"
     ]
    }
   ],
   "source": [
    "X = df.drop(columns=[\"name\", \"edition\", \"selling_price\"])\n",
    "y = df.selling_price.copy()\n",
    "\n",
    "print(X.shape, y.shape)"
   ]
  },
  {
   "cell_type": "markdown",
   "metadata": {
    "id": "M1Pifwpg2081"
   },
   "source": [
    "## Demo"
   ]
  },
  {
   "cell_type": "markdown",
   "metadata": {
    "id": "C9t6NbxS5gI4"
   },
   "source": [
    "### Data Preprocessing"
   ]
  },
  {
   "cell_type": "code",
   "execution_count": null,
   "metadata": {
    "id": "qUQLVTIW2yle"
   },
   "outputs": [],
   "source": [
    "num_cols = X.select_dtypes(include=\"number\").columns\n",
    "obj_cols = X.select_dtypes(exclude=\"number\").columns\n",
    "\n",
    "num_imputer = SimpleImputer(strategy=\"mean\")\n",
    "scaler = StandardScaler()\n",
    "\n",
    "num_pipe = Pipeline(steps=[(\"imputer\", num_imputer),\n",
    "                           (\"scaler\", scaler)])\n",
    "\n",
    "obj_imputer = SimpleImputer(strategy=\"most_frequent\")\n",
    "encoder = OneHotEncoder(handle_unknown=\"ignore\", sparse_output=False)\n",
    "\n",
    "obj_pipe = Pipeline(steps=[(\"imputer\", obj_imputer),\n",
    "                           (\"encoder\", encoder)])\n",
    "\n",
    "preprocessor = ColumnTransformer(transformers=[(\"num\", num_pipe, num_cols),\n",
    "                                               (\"obj\", obj_pipe, obj_cols)])\n",
    "\n",
    "model = Pipeline(steps=[(\"pre\", preprocessor),\n",
    "                        (\"reg\", RandomForestRegressor())])"
   ]
  },
  {
   "cell_type": "markdown",
   "metadata": {
    "id": "yiacjOpU5mp3"
   },
   "source": [
    "### Generating the Learning Curve"
   ]
  },
  {
   "cell_type": "code",
   "execution_count": null,
   "metadata": {
    "id": "H8brj7F53tTy"
   },
   "outputs": [],
   "source": [
    "train_sizes, train_scores, val_scores, fit_times, score_times = learning_curve(model,\n",
    "                                                                               X,\n",
    "                                                                               y,\n",
    "                                                                               train_sizes=np.linspace(0.1, 1.0, 7),\n",
    "                                                                               cv=5,\n",
    "                                                                               scoring=\"r2\",\n",
    "                                                                               n_jobs=-1,\n",
    "                                                                               random_state=1,\n",
    "                                                                               return_times=True)"
   ]
  },
  {
   "cell_type": "code",
   "execution_count": null,
   "metadata": {
    "colab": {
     "base_uri": "https://localhost:8080/"
    },
    "executionInfo": {
     "elapsed": 121,
     "status": "ok",
     "timestamp": 1705303796171,
     "user": {
      "displayName": "Mohammed Misbahullah Sheriff",
      "userId": "04478462769959085958"
     },
     "user_tz": -330
    },
    "id": "Gd-v_I8n4mEv",
    "outputId": "6546b6a1-cf5b-450d-adcf-37e3e4f9791f"
   },
   "outputs": [
    {
     "data": {
      "text/plain": [
       "array([ 554, 1385, 2216, 3046, 3877, 4709, 5540])"
      ]
     },
     "execution_count": 31,
     "metadata": {},
     "output_type": "execute_result"
    }
   ],
   "source": [
    "train_sizes"
   ]
  },
  {
   "cell_type": "code",
   "execution_count": null,
   "metadata": {
    "id": "LktMKtO84n2l"
   },
   "outputs": [],
   "source": [
    "mean_train_scores = np.mean(train_scores, axis=1)\n",
    "std_train_scores = np.std(train_scores, axis=1)\n",
    "\n",
    "mean_val_scores = np.mean(val_scores, axis=1)\n",
    "std_val_scores = np.std(val_scores, axis=1)\n",
    "\n",
    "mean_fit_times = np.mean(fit_times, axis=1)\n",
    "std_fit_times = np.std(fit_times, axis=1)\n",
    "\n",
    "mean_scoring_times = np.mean(score_times, axis=1)\n",
    "std_scoring_times = np.std(score_times, axis=1)"
   ]
  },
  {
   "cell_type": "markdown",
   "metadata": {
    "id": "6rGqEfxK5tw0"
   },
   "source": [
    "### Plotting the Learning Curve"
   ]
  },
  {
   "cell_type": "code",
   "execution_count": null,
   "metadata": {
    "id": "gs9jTEemD_y2"
   },
   "outputs": [],
   "source": [
    "def plot_curves(mean_scores,\n",
    "                std_scores,\n",
    "                ylabel,\n",
    "                ax,\n",
    "                marker=\"s\",\n",
    "                label=None,\n",
    "                title=None):\n",
    "  \"\"\"\n",
    "\n",
    "  Description:\n",
    "  ------------\n",
    "  This function will plot the relationship between the given input arrays\n",
    "  w.r.t. the varying sizes of the training set along with user-specified customizations for aesthetics\n",
    "\n",
    "  Parameters:\n",
    "  -----------\n",
    "  mean_scores: array (n_train_sizes,)\n",
    "               Array of mean scores calculated across each of the cross-validation folds\n",
    "\n",
    "  std_scores: array (n_train_sizes,)\n",
    "              Array of standard deviation of scores calculated across each of the cross-validation folds\n",
    "\n",
    "  ylabel: str\n",
    "          The y-label for the plot\n",
    "\n",
    "  ax: matplotlib axes\n",
    "      The axes to draw the plot over\n",
    "\n",
    "  marker: str\n",
    "          The marker symbol to use for the plot\n",
    "\n",
    "  label: str\n",
    "         The label to use for the plot\n",
    "\n",
    "  title: str\n",
    "         The title to use for the plot\n",
    "\n",
    "  \"\"\"\n",
    "  ax.plot(train_sizes,\n",
    "          mean_scores,\n",
    "          marker=marker,\n",
    "          label=label)\n",
    "  ax.fill_between(train_sizes,\n",
    "                  mean_scores - std_scores,\n",
    "                  mean_scores + std_scores,\n",
    "                  alpha=0.5)\n",
    "  ax.set(xlabel=\"Train Set Sizes\",\n",
    "         ylabel=ylabel,\n",
    "         title=title)"
   ]
  },
  {
   "cell_type": "code",
   "execution_count": null,
   "metadata": {
    "colab": {
     "base_uri": "https://localhost:8080/",
     "height": 807
    },
    "executionInfo": {
     "elapsed": 1423,
     "status": "ok",
     "timestamp": 1705305095576,
     "user": {
      "displayName": "Mohammed Misbahullah Sheriff",
      "userId": "04478462769959085958"
     },
     "user_tz": -330
    },
    "id": "BoWaEolLFDSc",
    "outputId": "28bfdd4b-3ab9-4fb2-fdde-9e86b15992b6"
   },
   "outputs": [
    {
     "data": {
      "image/png": "[encoded data removed]",
      "text/plain": [
       "<Figure size 1000x800 with 3 Axes>"
      ]
     },
     "metadata": {},
     "output_type": "display_data"
    }
   ],
   "source": [
    "fig = plt.figure(figsize=(10, 8))\n",
    "\n",
    "grid = GridSpec(2, 2, figure=fig)\n",
    "\n",
    "ax1 = fig.add_subplot(grid[0, :])\n",
    "ax2 = fig.add_subplot(grid[1, 0])\n",
    "ax3 = fig.add_subplot(grid[1, 1])\n",
    "\n",
    "# 1st axes (top)\n",
    "plot_curves(mean_train_scores,\n",
    "            std_train_scores,\n",
    "            ylabel=\"R2 Score\",\n",
    "            marker=\"o\",\n",
    "            label=\"Train\",\n",
    "            ax=ax1)\n",
    "plot_curves(mean_val_scores,\n",
    "            std_val_scores,\n",
    "            ylabel=\"R2 Score\",\n",
    "            marker=\"s\",\n",
    "            label=\"Val\",\n",
    "            title=f\"Learning Curve of {model['reg'].__class__.__name__}\",\n",
    "            ax=ax1)\n",
    "ax1.legend(loc=\"lower right\", fontsize=12)\n",
    "\n",
    "# 2nd axes (bottom left)\n",
    "plot_curves(mean_fit_times,\n",
    "            std_fit_times,\n",
    "            ylabel=\"Fit Time (s)\",\n",
    "            marker=\"s\",\n",
    "            title=f\"Fit Time vs Train Set Sizes\",\n",
    "            ax=ax2)\n",
    "\n",
    "# 3rd axes (bottom right)\n",
    "plot_curves(mean_scoring_times,\n",
    "            std_scoring_times,\n",
    "            ylabel=\"Score Time (s)\",\n",
    "            marker=\"s\",\n",
    "            title=f\"Score Time vs Train Set Sizes\",\n",
    "            ax=ax3)\n",
    "\n",
    "\n",
    "plt.tight_layout()\n",
    "plt.show()"
   ]
  },
  {
   "cell_type": "markdown",
   "metadata": {
    "id": "jeWHQKf1G4jp"
   },
   "source": [
    "### Observations:\n",
    "\n",
    "- From the learning curve, it can be seen that the training score is comparatively much higher than the validation score for any given size of the training set\n",
    "- As the training set gets bigger, the difference between the training and validation scores decreases slightly\n",
    "- This behaviour is typical for a model that is `over-fitting`\n",
    "- As the training set gets bigger, the time taken to train the model also increases nearly linearly\n",
    "- As the training set gets bigger, the time taken to score the model remains more or less the same on average\n",
    "- The scoring time gets more consistent as the training set size increases"
   ]
  }
 ],
 "metadata": {
  "colab": {
   "authorship_tag": "ABX9TyMstm9N/Yrnl7A5WWOa+st3",
   "provenance": []
  },
  "kernelspec": {
   "display_name": "Python 3 (ipykernel)",
   "language": "python",
   "name": "python3"
  },
  "language_info": {
   "codemirror_mode": {
    "name": "ipython",
    "version": 3
   },
   "file_extension": ".py",
   "mimetype": "text/x-python",
   "name": "python",
   "nbconvert_exporter": "python",
   "pygments_lexer": "ipython3",
   "version": "3.7.4"
  }
 },
 "nbformat": 4,
 "nbformat_minor": 1
}
